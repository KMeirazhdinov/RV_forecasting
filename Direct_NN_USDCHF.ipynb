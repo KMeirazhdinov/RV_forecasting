{
 "cells": [
  {
   "cell_type": "code",
   "execution_count": 1,
   "id": "79b73f99",
   "metadata": {},
   "outputs": [
    {
     "name": "stderr",
     "output_type": "stream",
     "text": [
      "C:\\Users\\VANKK\\AppData\\Local\\Temp\\ipykernel_17260\\2645691637.py:10: DeprecationWarning: `import kerastuner` is deprecated, please use `import keras_tuner`.\n",
      "  from kerastuner.tuners import BayesianOptimization\n"
     ]
    }
   ],
   "source": [
    "import pandas as pd\n",
    "import pickle\n",
    "import pywt, math\n",
    "import statsmodels.api as sm\n",
    "from tensorflow.keras.models import save_model\n",
    "from sklearn.metrics import mean_absolute_error\n",
    "from tensorflow.keras.models import load_model\n",
    "import numpy as np\n",
    "from tensorflow.keras.layers import Dropout\n",
    "from kerastuner.tuners import BayesianOptimization\n",
    "import random\n",
    "import os\n",
    "import matplotlib.pyplot as plt\n",
    "import datetime\n",
    "from tensorflow.keras import regularizers\n",
    "from pandas.plotting import lag_plot\n",
    "from datetime import datetime\n",
    "from tensorflow.keras.layers import BatchNormalization\n",
    "from tensorflow.keras.layers import LayerNormalization\n",
    "from sklearn.metrics import r2_score\n",
    "import time\n",
    "from tensorflow.keras.utils import plot_model\n",
    "from keras.regularizers import l1, l2\n",
    "from tensorflow.keras.regularizers import l1_l2\n",
    "from datetime import timedelta\n",
    "from scipy.spatial import KDTree\n",
    "from sklearn.linear_model import LinearRegression\n",
    "from keras.models import Sequential\n",
    "from keras.layers import Dense\n",
    "from keras.callbacks import EarlyStopping, ModelCheckpoint\n",
    "import tensorflow as tf\n",
    "from keras.models import load_model\n",
    "from IPython.display import Image\n",
    "import keras_tuner as kt\n",
    "from keras_tuner import RandomSearch\n",
    "from keras.models import load_model\n",
    "from sklearn.metrics import mean_squared_error\n",
    "import scipy.io\n",
    "from sklearn.model_selection import TimeSeriesSplit"
   ]
  },
  {
   "cell_type": "code",
   "execution_count": 2,
   "id": "cc862336",
   "metadata": {},
   "outputs": [],
   "source": [
    "path = \"USD_CHF_RV_89_93.csv.zip\"\n",
    "df = pd.read_csv(f'{path}', compression = 'zip') \n",
    "rv = df.rvfx.values\n",
    "r = np.flip(rv - np.mean(rv)) # Flip the data for convenience\n",
    "test_size = 520\n",
    "r_test = np.flip(r[:test_size]) # This corresponds to the last 520 observation (The most recent ones)\n",
    "r = np.append(r, 0)\n",
    "ts = np.arange(0, len(r))"
   ]
  },
  {
   "cell_type": "code",
   "execution_count": 3,
   "id": "12b2e433",
   "metadata": {},
   "outputs": [],
   "source": [
    "c = 1/2\n",
    "dec_lo, dec_hi, rec_lo, rec_hi = [c, c], [-c, c], [1, 1], [1, -1]\n",
    "filter_bank = [dec_lo, dec_hi, rec_lo, rec_hi]\n",
    "BandiWavelet = pywt.Wavelet(name=\"Bandi\", filter_bank=filter_bank)"
   ]
  },
  {
   "cell_type": "code",
   "execution_count": 4,
   "id": "47f234e9",
   "metadata": {},
   "outputs": [],
   "source": [
    "(A1, D1) = pywt.dwt(r, BandiWavelet)\n",
    "(A2, D2) = pywt.dwt(A1, BandiWavelet)\n",
    "\n",
    "# Creating the timestamps to making indexing more convenient\n",
    "ts1 = np.arange(0, len(r), 2**1)\n",
    "ts2 = np.arange(0, len(r), 2**2)"
   ]
  },
  {
   "cell_type": "code",
   "execution_count": 5,
   "id": "93f7f89d",
   "metadata": {},
   "outputs": [],
   "source": [
    "def bring_to_original_size(arr, j):\n",
    "\n",
    "  # This function accepts the wavelet coefficients and depending on the scale\n",
    "  # will return the wavelet coefficients that are of the same size as the\n",
    "  # original realized volatility time series (3600), by filling zeros in between.\n",
    "\n",
    "  output = np.array([])\n",
    "\n",
    "  zeros_array = np.zeros(2**j-1)\n",
    "\n",
    "  for i in range(len(arr)):\n",
    "\n",
    "    output = np.append(output, arr[i])\n",
    "\n",
    "    output = np.concatenate((output, zeros_array))\n",
    "\n",
    "  return output\n",
    "\n",
    "def adjust_size(A,D):\n",
    "\n",
    "  # Since we model the scales using the other scales, for the j=3 coefficients\n",
    "  # last 7 observations are 0s, for j=2 its 3 and for j=1 its 1. Hence the output\n",
    "  # is the matrix of wavelet coefficients being all of the size of the coefficients\n",
    "  # for j=3. Check the output.\n",
    "\n",
    "  lengths = []\n",
    "\n",
    "  for i in range(A.shape[1]):\n",
    "\n",
    "      lengths.append(np.where(A[:,i] == A[:,i][A[:,i] != 0][-1])[0][0]+1)\n",
    "\n",
    "  cutoff = np.min(lengths)\n",
    "\n",
    "  A_output = A[:cutoff,:]\n",
    "  D_output = D[:cutoff,:]\n",
    "\n",
    "  return A_output, D_output\n",
    "\n",
    "fA1 = bring_to_original_size(A1, 1)\n",
    "fA2 = bring_to_original_size(A2, 2)\n",
    "fD1 = bring_to_original_size(D1, 1)\n",
    "fD2 = bring_to_original_size(D2, 2)\n",
    "\n",
    "fA = np.column_stack((fA1,fA2))\n",
    "fD = np.column_stack((fD1,fD2))\n",
    "fA, fD = adjust_size(fA,fD)\n",
    "\n",
    "# Creating the timestamps to making indexing more convenient\n",
    "ts1 = np.arange(0, len(fA), 2**1)\n",
    "ts2 = np.arange(0, len(fA), 2**2)"
   ]
  },
  {
   "cell_type": "code",
   "execution_count": 6,
   "id": "a05524b7",
   "metadata": {},
   "outputs": [],
   "source": [
    "def new_create_direct_data(lags, rv = r):\n",
    "\n",
    "    sample_length = np.min([len(fA[:-lags[0]*2,0]),len(fA[:-lags[1]*4,1]), len(fD[:-lags[2]*2,0]),len(fD[:-lags[3]*4,1])])\n",
    "    X = np.empty((sample_length, np.sum(lags)))\n",
    "    y = np.empty((sample_length,))\n",
    "\n",
    "    for t in range(sample_length):\n",
    "\n",
    "        ts1a_inds = ts1[ts1>t][:lags[0]]\n",
    "        ts2a_inds = ts2[ts2>t][:lags[1]]\n",
    "        ts1d_inds = ts1[ts1>t][:lags[2]]\n",
    "        ts2d_inds = ts2[ts2>t][:lags[3]]\n",
    "        X1a = fA[ts1a_inds,0]\n",
    "        X2a = fA[ts2a_inds,1]\n",
    "        X1d = fD[ts1d_inds,0]\n",
    "        X2d = fD[ts2d_inds,1]\n",
    "        X_row = np.concatenate((X1a,X2a,X1d,X2d,rv[t+1:t+1+lags[-1]]))\n",
    "        X[t,:] = X_row\n",
    "        y[t] = r[t]\n",
    "\n",
    "    return np.flip(y), np.flip(X,0)\n",
    "\n",
    "lags = [10,20,15,30,3]\n",
    "y_dir, X_dir = new_create_direct_data(lags)"
   ]
  },
  {
   "cell_type": "code",
   "execution_count": 7,
   "id": "6b658eea",
   "metadata": {},
   "outputs": [],
   "source": [
    "class MyHyperDirectModel(kt.HyperModel):\n",
    "\n",
    "    def build(self, hp):\n",
    "\n",
    "        model = Sequential()\n",
    "\n",
    "        # pick activation function\n",
    "        hp_act_func = hp.Choice('activation', values=['tanh','sigmoid','relu'])\n",
    "\n",
    "        # Add input layer\n",
    "        l2_reg = hp.Float('l2_regularization', min_value=0, max_value=0.3, step=0.01)\n",
    "        l1_reg = hp.Float('l1_regularization', min_value=0, max_value=0.3, step=0.01)\n",
    "\n",
    "        model.add(Dense(units=trainX.shape[1], activation=hp_act_func, input_dim=trainX.shape[1], kernel_regularizer=l1_l2(l1=l1_reg, l2=l2_reg)))\n",
    "\n",
    "        model.add(BatchNormalization())\n",
    "\n",
    "        # Add hidden layers\n",
    "        hp_units = 1000\n",
    "\n",
    "        for i in range(hp.Int('num_layers', min_value=1, max_value=1, step=1)):\n",
    "\n",
    "            l2_reg = hp.Float('l2_regularization_'+str(i), min_value=0, max_value=0.3, step=0.01)\n",
    "            l1_reg = hp.Float('l1_regularization_'+str(i), min_value=0, max_value=0.3, step=0.01)\n",
    "\n",
    "            hp_units = hp.Int('hidden_units_'+str(i), min_value=10, max_value=200, step=5)\n",
    "\n",
    "            hp_act_func = hp.Choice('activation'+str(i), values=['tanh','sigmoid','relu'])\n",
    "\n",
    "            model.add(Dense(units=hp_units, activation=hp_act_func, kernel_regularizer=l1_l2(l1=l1_reg, l2=l2_reg)))\n",
    "\n",
    "            model.add(BatchNormalization())\n",
    "\n",
    "        # Add output layer\n",
    "        model.add(Dense(units=1, activation='linear'))\n",
    "\n",
    "        hp_learning_rate = hp.Choice('learning_rate', values=[0.1, 0.01, 0.001, 0.0001, 0.00001, 0.05, 0.005, 0.00005])\n",
    "\n",
    "        hp_weight_decay = hp.Choice('weight_decay', values=[0.0, 0.005, 0.1, 0.2, 0.3, 0.4, 0.5, 0.6, 0.7])\n",
    "\n",
    "        opt = tf.keras.optimizers.Adam(\n",
    "                learning_rate=hp_learning_rate,\n",
    "                name=\"Adam\",weight_decay=hp_weight_decay)\n",
    "\n",
    "        # Compile the model\n",
    "        model.compile(optimizer=opt, loss='mse', metrics=[\"mean_absolute_error\"])\n",
    "\n",
    "        return model\n",
    "\n",
    "    def fit(self, hp, model, x, y, validation_data, **kwargs):\n",
    "\n",
    "        return model.fit(\n",
    "            x,\n",
    "            y,\n",
    "            validation_data=validation_data,\n",
    "            batch_size=hp.Choice(\"batch_size\", [16, 32, 64, 128, 256]),\n",
    "            epochs = hp.Int('epochs', min_value=200, max_value=300, step=10),\n",
    "            **kwargs,\n",
    "        )\n",
    "\n",
    "        return history"
   ]
  },
  {
   "cell_type": "code",
   "execution_count": 8,
   "id": "5eb31956",
   "metadata": {},
   "outputs": [],
   "source": [
    "from keras.callbacks import Callback\n",
    "class BestValidationLossCallback(Callback):\n",
    "    def __init__(self):\n",
    "        super(BestValidationLossCallback, self).__init__()\n",
    "        self.best_val_loss = float('inf')\n",
    "\n",
    "    def on_epoch_end(self, epoch, logs=None):\n",
    "        val_loss = logs.get('val_loss')\n",
    "        if val_loss is not None and val_loss < self.best_val_loss:\n",
    "            self.best_val_loss = val_loss\n",
    "\n",
    "    def on_train_end(self, logs=None):\n",
    "        print('Best validation loss: {}'.format(self.best_val_loss))"
   ]
  },
  {
   "cell_type": "code",
   "execution_count": 9,
   "id": "1ddd3da7",
   "metadata": {},
   "outputs": [],
   "source": [
    "def direct_tune_nn(training_X, training_y, validation_X, validation_y, iteration, trial):\n",
    "\n",
    "        save_directory = f'Adaptive_tuning_with_true_rv/trial_{trial}/iter_{iteration}'\n",
    "\n",
    "        max_trials = 50\n",
    "\n",
    "        tuner = BayesianOptimization(MyHyperDirectModel(),\n",
    "                objective='val_loss',\n",
    "                num_initial_points=20,\n",
    "                max_trials=max_trials,\n",
    "                directory=save_directory,\n",
    "                project_name=f'RV_forecasting',\n",
    "                overwrite = True)\n",
    "\n",
    "        callback = BestValidationLossCallback()\n",
    "\n",
    "        tuner.search(training_X, training_y, validation_data = (validation_X, validation_y),callbacks=[tf.keras.callbacks.EarlyStopping('val_loss', patience=3),callback],verbose = 0)\n",
    "        \n",
    "        best_model = tuner.get_best_models(1)[0]\n",
    "        save_model(best_model, f'{save_directory}/model_{iteration}.h5')\n",
    "\n",
    "        best_hps = tuner.get_best_hyperparameters(30)\n",
    "        hp_directory = f'{save_directory}/hps_{iteration}.pkl'\n",
    "        with open(hp_directory, 'wb') as file:\n",
    "                pickle.dump(best_hps, file)\n",
    "        \n",
    "        return best_model, best_hps"
   ]
  },
  {
   "cell_type": "code",
   "execution_count": 11,
   "id": "e361f730",
   "metadata": {},
   "outputs": [
    {
     "data": {
      "image/png": "[encoded data removed]",
      "text/plain": [
       "<Figure size 640x480 with 1 Axes>"
      ]
     },
     "metadata": {},
     "output_type": "display_data"
    }
   ],
   "source": [
    "from statsmodels.graphics.tsaplots import plot_acf\n",
    "\n",
    "# Create the autocorrelation plot\n",
    "plot_acf(r[:-1], lags=50)\n",
    "plt.show()"
   ]
  },
  {
   "cell_type": "code",
   "execution_count": 12,
   "id": "e400aabe",
   "metadata": {},
   "outputs": [],
   "source": [
    "trial = 1\n",
    "lags = [30,30,30,30,30]\n",
    "y_dir, X_dir = new_create_direct_data(lags)\n",
    "batch_size = 44"
   ]
  },
  {
   "cell_type": "code",
   "execution_count": 35,
   "id": "61e4b64f",
   "metadata": {
    "scrolled": true
   },
   "outputs": [
    {
     "name": "stdout",
     "output_type": "stream",
     "text": [
      "Current update_size is  520\n",
      "Best validation loss: 50.486026763916016\n",
      "Best validation loss: 295.01605224609375\n",
      "Best validation loss: 71.7395248413086\n",
      "Best validation loss: 70.15675354003906\n",
      "Best validation loss: 35.62321090698242\n",
      "Best validation loss: 10.608604431152344\n",
      "Best validation loss: 14.781051635742188\n",
      "Best validation loss: 9.350902557373047\n",
      "Best validation loss: 115.43124389648438\n",
      "Best validation loss: 7.697574615478516\n",
      "Best validation loss: 20.71280288696289\n",
      "Best validation loss: 105.66630554199219\n",
      "Best validation loss: 9.245436668395996\n",
      "Best validation loss: 26.90032386779785\n",
      "Best validation loss: 32.82749938964844\n",
      "Best validation loss: 9.041642189025879\n",
      "Best validation loss: 132.92840576171875\n",
      "Best validation loss: 7.976064205169678\n",
      "Best validation loss: 28.21409034729004\n",
      "Best validation loss: 47.873409271240234\n",
      "Best validation loss: 10.29751205444336\n",
      "Best validation loss: 28.239744186401367\n",
      "Best validation loss: 14.888525009155273\n",
      "Best validation loss: 15.774447441101074\n",
      "Best validation loss: 9.631104469299316\n",
      "Best validation loss: 12.622699737548828\n",
      "Best validation loss: 13.130203247070312\n",
      "Best validation loss: 55.70217514038086\n",
      "Best validation loss: 11.112995147705078\n",
      "Best validation loss: 9.1696195602417\n",
      "Best validation loss: 12.761761665344238\n",
      "Best validation loss: 28.57505989074707\n",
      "Best validation loss: 13.31689739227295\n",
      "Best validation loss: 7.837951183319092\n",
      "Best validation loss: 28.32105827331543\n",
      "Best validation loss: 16.15550422668457\n",
      "Best validation loss: 52.89735412597656\n",
      "Best validation loss: 7.836095809936523\n",
      "Best validation loss: 15.556340217590332\n",
      "Best validation loss: 8.814434051513672\n",
      "Best validation loss: 22.919910430908203\n",
      "Best validation loss: 10.892979621887207\n",
      "Best validation loss: 8.143184661865234\n",
      "Best validation loss: 13.704121589660645\n",
      "Best validation loss: 12.871843338012695\n",
      "Best validation loss: 23.32110595703125\n",
      "Best validation loss: 15.605367660522461\n",
      "Best validation loss: 30.277809143066406\n",
      "Best validation loss: 11.551563262939453\n",
      "Best validation loss: 10.002351760864258\n",
      "INFO:tensorflow:Oracle triggered exit\n",
      "WARNING:tensorflow:Detecting that an object or model or tf.train.Checkpoint is being deleted with unrestored values. See the following logs for the specific values in question. To silence these warnings, use `status.expect_partial()`. See https://www.tensorflow.org/api_docs/python/tf/train/Checkpoint#restorefor details about the status object returned by the restore function.\n",
      "WARNING:tensorflow:Value in checkpoint could not be found in the restored object: (root).optimizer._variables.1\n",
      "WARNING:tensorflow:Value in checkpoint could not be found in the restored object: (root).optimizer._variables.2\n",
      "WARNING:tensorflow:Value in checkpoint could not be found in the restored object: (root).optimizer._variables.3\n",
      "WARNING:tensorflow:Value in checkpoint could not be found in the restored object: (root).optimizer._variables.4\n",
      "WARNING:tensorflow:Value in checkpoint could not be found in the restored object: (root).optimizer._variables.5\n",
      "WARNING:tensorflow:Value in checkpoint could not be found in the restored object: (root).optimizer._variables.6\n",
      "WARNING:tensorflow:Value in checkpoint could not be found in the restored object: (root).optimizer._variables.7\n",
      "WARNING:tensorflow:Value in checkpoint could not be found in the restored object: (root).optimizer._variables.8\n",
      "WARNING:tensorflow:Value in checkpoint could not be found in the restored object: (root).optimizer._variables.9\n",
      "WARNING:tensorflow:Value in checkpoint could not be found in the restored object: (root).optimizer._variables.10\n",
      "WARNING:tensorflow:Value in checkpoint could not be found in the restored object: (root).optimizer._variables.11\n",
      "WARNING:tensorflow:Value in checkpoint could not be found in the restored object: (root).optimizer._variables.12\n",
      "WARNING:tensorflow:Value in checkpoint could not be found in the restored object: (root).optimizer._variables.13\n",
      "WARNING:tensorflow:Value in checkpoint could not be found in the restored object: (root).optimizer._variables.14\n",
      "WARNING:tensorflow:Value in checkpoint could not be found in the restored object: (root).optimizer._variables.15\n",
      "WARNING:tensorflow:Value in checkpoint could not be found in the restored object: (root).optimizer._variables.16\n",
      "WARNING:tensorflow:Value in checkpoint could not be found in the restored object: (root).optimizer._variables.17\n",
      "WARNING:tensorflow:Value in checkpoint could not be found in the restored object: (root).optimizer._variables.18\n",
      "WARNING:tensorflow:Value in checkpoint could not be found in the restored object: (root).optimizer._variables.19\n",
      "WARNING:tensorflow:Value in checkpoint could not be found in the restored object: (root).optimizer._variables.20\n"
     ]
    },
    {
     "name": "stderr",
     "output_type": "stream",
     "text": [
      "C:\\Users\\VANKK\\AppData\\Local\\Temp\\ipykernel_4960\\1998982945.py:20: UserWarning: You are saving your model as an HDF5 file via `model.save()`. This file format is considered legacy. We recommend using instead the native Keras format, e.g. `model.save('my_model.keras')`.\n",
      "  save_model(best_model, f'{save_directory}/model_{iteration}.h5')\n"
     ]
    },
    {
     "name": "stdout",
     "output_type": "stream",
     "text": [
      "Current update_size is  476\n",
      "Best validation loss: 46.30104446411133\n",
      "Best validation loss: 12.256786346435547\n",
      "Best validation loss: 60.20270919799805\n",
      "Best validation loss: 9.27994441986084\n",
      "Best validation loss: 20.946147918701172\n",
      "Best validation loss: 43.379024505615234\n",
      "Best validation loss: 19.75223159790039\n",
      "Best validation loss: 13.919013977050781\n",
      "Best validation loss: 17.235097885131836\n",
      "Best validation loss: 14.157350540161133\n",
      "Best validation loss: 13.839407920837402\n",
      "Best validation loss: 18.517099380493164\n",
      "Best validation loss: 19.260040283203125\n",
      "Best validation loss: 15.69079875946045\n",
      "Best validation loss: 8.550228118896484\n",
      "Best validation loss: 16.06166648864746\n",
      "Best validation loss: 16.50423812866211\n",
      "Best validation loss: 154.67481994628906\n",
      "Best validation loss: 58.52935791015625\n",
      "Best validation loss: 425.52471923828125\n",
      "Best validation loss: 8.492008209228516\n",
      "Best validation loss: 7.9407525062561035\n"
     ]
    },
    {
     "name": "stderr",
     "output_type": "stream",
     "text": [
      "C:\\Users\\VANKK\\anaconda3\\Lib\\site-packages\\sklearn\\gaussian_process\\kernels.py:420: ConvergenceWarning: The optimal value found for dimension 0 of parameter length_scale is close to the specified lower bound 1e-05. Decreasing the bound and calling fit again may find a better value.\n",
      "  warnings.warn(\n"
     ]
    },
    {
     "name": "stdout",
     "output_type": "stream",
     "text": [
      "Best validation loss: 15.919370651245117\n"
     ]
    },
    {
     "name": "stderr",
     "output_type": "stream",
     "text": [
      "C:\\Users\\VANKK\\anaconda3\\Lib\\site-packages\\sklearn\\gaussian_process\\kernels.py:420: ConvergenceWarning: The optimal value found for dimension 0 of parameter length_scale is close to the specified lower bound 1e-05. Decreasing the bound and calling fit again may find a better value.\n",
      "  warnings.warn(\n"
     ]
    },
    {
     "name": "stdout",
     "output_type": "stream",
     "text": [
      "Best validation loss: 31.11107063293457\n"
     ]
    },
    {
     "name": "stderr",
     "output_type": "stream",
     "text": [
      "C:\\Users\\VANKK\\anaconda3\\Lib\\site-packages\\sklearn\\gaussian_process\\kernels.py:420: ConvergenceWarning: The optimal value found for dimension 0 of parameter length_scale is close to the specified lower bound 1e-05. Decreasing the bound and calling fit again may find a better value.\n",
      "  warnings.warn(\n"
     ]
    },
    {
     "name": "stdout",
     "output_type": "stream",
     "text": [
      "Best validation loss: 17.818675994873047\n"
     ]
    },
    {
     "name": "stderr",
     "output_type": "stream",
     "text": [
      "C:\\Users\\VANKK\\anaconda3\\Lib\\site-packages\\sklearn\\gaussian_process\\kernels.py:420: ConvergenceWarning: The optimal value found for dimension 0 of parameter length_scale is close to the specified lower bound 1e-05. Decreasing the bound and calling fit again may find a better value.\n",
      "  warnings.warn(\n"
     ]
    },
    {
     "name": "stdout",
     "output_type": "stream",
     "text": [
      "Best validation loss: 9.556970596313477\n"
     ]
    },
    {
     "name": "stderr",
     "output_type": "stream",
     "text": [
      "C:\\Users\\VANKK\\anaconda3\\Lib\\site-packages\\sklearn\\gaussian_process\\kernels.py:420: ConvergenceWarning: The optimal value found for dimension 0 of parameter length_scale is close to the specified lower bound 1e-05. Decreasing the bound and calling fit again may find a better value.\n",
      "  warnings.warn(\n"
     ]
    },
    {
     "name": "stdout",
     "output_type": "stream",
     "text": [
      "Best validation loss: 20.633935928344727\n"
     ]
    },
    {
     "name": "stderr",
     "output_type": "stream",
     "text": [
      "C:\\Users\\VANKK\\anaconda3\\Lib\\site-packages\\sklearn\\gaussian_process\\kernels.py:420: ConvergenceWarning: The optimal value found for dimension 0 of parameter length_scale is close to the specified lower bound 1e-05. Decreasing the bound and calling fit again may find a better value.\n",
      "  warnings.warn(\n"
     ]
    },
    {
     "name": "stdout",
     "output_type": "stream",
     "text": [
      "Best validation loss: 15.141663551330566\n"
     ]
    },
    {
     "name": "stderr",
     "output_type": "stream",
     "text": [
      "C:\\Users\\VANKK\\anaconda3\\Lib\\site-packages\\sklearn\\gaussian_process\\kernels.py:420: ConvergenceWarning: The optimal value found for dimension 0 of parameter length_scale is close to the specified lower bound 1e-05. Decreasing the bound and calling fit again may find a better value.\n",
      "  warnings.warn(\n"
     ]
    },
    {
     "name": "stdout",
     "output_type": "stream",
     "text": [
      "Best validation loss: 8.89677906036377\n",
      "Best validation loss: 32.80755615234375\n",
      "Best validation loss: 8.95377254486084\n"
     ]
    },
    {
     "name": "stderr",
     "output_type": "stream",
     "text": [
      "C:\\Users\\VANKK\\anaconda3\\Lib\\site-packages\\sklearn\\gaussian_process\\kernels.py:420: ConvergenceWarning: The optimal value found for dimension 0 of parameter length_scale is close to the specified lower bound 1e-05. Decreasing the bound and calling fit again may find a better value.\n",
      "  warnings.warn(\n"
     ]
    },
    {
     "name": "stdout",
     "output_type": "stream",
     "text": [
      "Best validation loss: 65.16292572021484\n",
      "Best validation loss: 31.09592056274414\n",
      "Best validation loss: 18.84001922607422\n",
      "Best validation loss: 10.768845558166504\n"
     ]
    },
    {
     "name": "stderr",
     "output_type": "stream",
     "text": [
      "C:\\Users\\VANKK\\anaconda3\\Lib\\site-packages\\sklearn\\gaussian_process\\kernels.py:420: ConvergenceWarning: The optimal value found for dimension 0 of parameter length_scale is close to the specified lower bound 1e-05. Decreasing the bound and calling fit again may find a better value.\n",
      "  warnings.warn(\n"
     ]
    },
    {
     "name": "stdout",
     "output_type": "stream",
     "text": [
      "Best validation loss: 56.68617630004883\n"
     ]
    },
    {
     "name": "stderr",
     "output_type": "stream",
     "text": [
      "C:\\Users\\VANKK\\anaconda3\\Lib\\site-packages\\sklearn\\gaussian_process\\kernels.py:420: ConvergenceWarning: The optimal value found for dimension 0 of parameter length_scale is close to the specified lower bound 1e-05. Decreasing the bound and calling fit again may find a better value.\n",
      "  warnings.warn(\n"
     ]
    },
    {
     "name": "stdout",
     "output_type": "stream",
     "text": [
      "Best validation loss: 22.982011795043945\n"
     ]
    },
    {
     "name": "stderr",
     "output_type": "stream",
     "text": [
      "C:\\Users\\VANKK\\anaconda3\\Lib\\site-packages\\sklearn\\gaussian_process\\kernels.py:420: ConvergenceWarning: The optimal value found for dimension 0 of parameter length_scale is close to the specified lower bound 1e-05. Decreasing the bound and calling fit again may find a better value.\n",
      "  warnings.warn(\n"
     ]
    },
    {
     "name": "stdout",
     "output_type": "stream",
     "text": [
      "Best validation loss: 51.55134201049805\n"
     ]
    },
    {
     "name": "stderr",
     "output_type": "stream",
     "text": [
      "C:\\Users\\VANKK\\anaconda3\\Lib\\site-packages\\sklearn\\gaussian_process\\kernels.py:420: ConvergenceWarning: The optimal value found for dimension 0 of parameter length_scale is close to the specified lower bound 1e-05. Decreasing the bound and calling fit again may find a better value.\n",
      "  warnings.warn(\n"
     ]
    },
    {
     "name": "stdout",
     "output_type": "stream",
     "text": [
      "Best validation loss: 17.515857696533203\n"
     ]
    },
    {
     "name": "stderr",
     "output_type": "stream",
     "text": [
      "C:\\Users\\VANKK\\anaconda3\\Lib\\site-packages\\sklearn\\gaussian_process\\kernels.py:420: ConvergenceWarning: The optimal value found for dimension 0 of parameter length_scale is close to the specified lower bound 1e-05. Decreasing the bound and calling fit again may find a better value.\n",
      "  warnings.warn(\n"
     ]
    },
    {
     "name": "stdout",
     "output_type": "stream",
     "text": [
      "Best validation loss: 13.670331001281738\n"
     ]
    },
    {
     "name": "stderr",
     "output_type": "stream",
     "text": [
      "C:\\Users\\VANKK\\anaconda3\\Lib\\site-packages\\sklearn\\gaussian_process\\kernels.py:420: ConvergenceWarning: The optimal value found for dimension 0 of parameter length_scale is close to the specified lower bound 1e-05. Decreasing the bound and calling fit again may find a better value.\n",
      "  warnings.warn(\n"
     ]
    },
    {
     "name": "stdout",
     "output_type": "stream",
     "text": [
      "Best validation loss: 42.241172790527344\n"
     ]
    },
    {
     "name": "stderr",
     "output_type": "stream",
     "text": [
      "C:\\Users\\VANKK\\anaconda3\\Lib\\site-packages\\sklearn\\gaussian_process\\kernels.py:420: ConvergenceWarning: The optimal value found for dimension 0 of parameter length_scale is close to the specified lower bound 1e-05. Decreasing the bound and calling fit again may find a better value.\n",
      "  warnings.warn(\n"
     ]
    },
    {
     "name": "stdout",
     "output_type": "stream",
     "text": [
      "Best validation loss: 17.222400665283203\n"
     ]
    },
    {
     "name": "stderr",
     "output_type": "stream",
     "text": [
      "C:\\Users\\VANKK\\anaconda3\\Lib\\site-packages\\sklearn\\gaussian_process\\kernels.py:420: ConvergenceWarning: The optimal value found for dimension 0 of parameter length_scale is close to the specified lower bound 1e-05. Decreasing the bound and calling fit again may find a better value.\n",
      "  warnings.warn(\n"
     ]
    },
    {
     "name": "stdout",
     "output_type": "stream",
     "text": [
      "Best validation loss: 20.517742156982422\n"
     ]
    },
    {
     "name": "stderr",
     "output_type": "stream",
     "text": [
      "C:\\Users\\VANKK\\anaconda3\\Lib\\site-packages\\sklearn\\gaussian_process\\kernels.py:420: ConvergenceWarning: The optimal value found for dimension 0 of parameter length_scale is close to the specified lower bound 1e-05. Decreasing the bound and calling fit again may find a better value.\n",
      "  warnings.warn(\n"
     ]
    },
    {
     "name": "stdout",
     "output_type": "stream",
     "text": [
      "Best validation loss: 9.384902000427246\n"
     ]
    },
    {
     "name": "stderr",
     "output_type": "stream",
     "text": [
      "C:\\Users\\VANKK\\anaconda3\\Lib\\site-packages\\sklearn\\gaussian_process\\kernels.py:420: ConvergenceWarning: The optimal value found for dimension 0 of parameter length_scale is close to the specified lower bound 1e-05. Decreasing the bound and calling fit again may find a better value.\n",
      "  warnings.warn(\n"
     ]
    },
    {
     "name": "stdout",
     "output_type": "stream",
     "text": [
      "Best validation loss: 67.61637878417969\n"
     ]
    },
    {
     "name": "stderr",
     "output_type": "stream",
     "text": [
      "C:\\Users\\VANKK\\anaconda3\\Lib\\site-packages\\sklearn\\gaussian_process\\kernels.py:420: ConvergenceWarning: The optimal value found for dimension 0 of parameter length_scale is close to the specified lower bound 1e-05. Decreasing the bound and calling fit again may find a better value.\n",
      "  warnings.warn(\n"
     ]
    },
    {
     "name": "stdout",
     "output_type": "stream",
     "text": [
      "Best validation loss: 15.332598686218262\n"
     ]
    },
    {
     "name": "stderr",
     "output_type": "stream",
     "text": [
      "C:\\Users\\VANKK\\anaconda3\\Lib\\site-packages\\sklearn\\gaussian_process\\kernels.py:420: ConvergenceWarning: The optimal value found for dimension 0 of parameter length_scale is close to the specified lower bound 1e-05. Decreasing the bound and calling fit again may find a better value.\n",
      "  warnings.warn(\n"
     ]
    },
    {
     "name": "stdout",
     "output_type": "stream",
     "text": [
      "Best validation loss: 8.10023021697998\n"
     ]
    },
    {
     "name": "stderr",
     "output_type": "stream",
     "text": [
      "C:\\Users\\VANKK\\anaconda3\\Lib\\site-packages\\sklearn\\gaussian_process\\kernels.py:420: ConvergenceWarning: The optimal value found for dimension 0 of parameter length_scale is close to the specified lower bound 1e-05. Decreasing the bound and calling fit again may find a better value.\n",
      "  warnings.warn(\n"
     ]
    },
    {
     "name": "stdout",
     "output_type": "stream",
     "text": [
      "Best validation loss: 51.120792388916016\n"
     ]
    },
    {
     "name": "stderr",
     "output_type": "stream",
     "text": [
      "C:\\Users\\VANKK\\anaconda3\\Lib\\site-packages\\sklearn\\gaussian_process\\kernels.py:420: ConvergenceWarning: The optimal value found for dimension 0 of parameter length_scale is close to the specified lower bound 1e-05. Decreasing the bound and calling fit again may find a better value.\n",
      "  warnings.warn(\n"
     ]
    },
    {
     "name": "stdout",
     "output_type": "stream",
     "text": [
      "WARNING:tensorflow:Callback method `on_train_batch_end` is slow compared to the batch time (batch time: 0.0002s vs `on_train_batch_end` time: 0.0005s). Check your callbacks.\n",
      "Best validation loss: 43.39907455444336\n"
     ]
    },
    {
     "name": "stderr",
     "output_type": "stream",
     "text": [
      "C:\\Users\\VANKK\\anaconda3\\Lib\\site-packages\\sklearn\\gaussian_process\\kernels.py:420: ConvergenceWarning: The optimal value found for dimension 0 of parameter length_scale is close to the specified lower bound 1e-05. Decreasing the bound and calling fit again may find a better value.\n",
      "  warnings.warn(\n"
     ]
    },
    {
     "name": "stdout",
     "output_type": "stream",
     "text": [
      "Best validation loss: 23.340362548828125\n",
      "INFO:tensorflow:Oracle triggered exit\n",
      "WARNING:tensorflow:Detecting that an object or model or tf.train.Checkpoint is being deleted with unrestored values. See the following logs for the specific values in question. To silence these warnings, use `status.expect_partial()`. See https://www.tensorflow.org/api_docs/python/tf/train/Checkpoint#restorefor details about the status object returned by the restore function.\n",
      "WARNING:tensorflow:Value in checkpoint could not be found in the restored object: (root).optimizer._variables.1\n",
      "WARNING:tensorflow:Value in checkpoint could not be found in the restored object: (root).optimizer._variables.2\n",
      "WARNING:tensorflow:Value in checkpoint could not be found in the restored object: (root).optimizer._variables.3\n",
      "WARNING:tensorflow:Value in checkpoint could not be found in the restored object: (root).optimizer._variables.4\n",
      "WARNING:tensorflow:Value in checkpoint could not be found in the restored object: (root).optimizer._variables.5\n",
      "WARNING:tensorflow:Value in checkpoint could not be found in the restored object: (root).optimizer._variables.6\n",
      "WARNING:tensorflow:Value in checkpoint could not be found in the restored object: (root).optimizer._variables.7\n",
      "WARNING:tensorflow:Value in checkpoint could not be found in the restored object: (root).optimizer._variables.8\n",
      "WARNING:tensorflow:Value in checkpoint could not be found in the restored object: (root).optimizer._variables.9\n",
      "WARNING:tensorflow:Value in checkpoint could not be found in the restored object: (root).optimizer._variables.10\n",
      "WARNING:tensorflow:Value in checkpoint could not be found in the restored object: (root).optimizer._variables.11\n",
      "WARNING:tensorflow:Value in checkpoint could not be found in the restored object: (root).optimizer._variables.12\n",
      "WARNING:tensorflow:Value in checkpoint could not be found in the restored object: (root).optimizer._variables.13\n",
      "WARNING:tensorflow:Value in checkpoint could not be found in the restored object: (root).optimizer._variables.14\n",
      "WARNING:tensorflow:Value in checkpoint could not be found in the restored object: (root).optimizer._variables.15\n",
      "WARNING:tensorflow:Value in checkpoint could not be found in the restored object: (root).optimizer._variables.16\n",
      "WARNING:tensorflow:Value in checkpoint could not be found in the restored object: (root).optimizer._variables.17\n",
      "WARNING:tensorflow:Value in checkpoint could not be found in the restored object: (root).optimizer._variables.18\n",
      "WARNING:tensorflow:Value in checkpoint could not be found in the restored object: (root).optimizer._variables.19\n",
      "WARNING:tensorflow:Value in checkpoint could not be found in the restored object: (root).optimizer._variables.20\n"
     ]
    },
    {
     "name": "stderr",
     "output_type": "stream",
     "text": [
      "C:\\Users\\VANKK\\AppData\\Local\\Temp\\ipykernel_4960\\1998982945.py:20: UserWarning: You are saving your model as an HDF5 file via `model.save()`. This file format is considered legacy. We recommend using instead the native Keras format, e.g. `model.save('my_model.keras')`.\n",
      "  save_model(best_model, f'{save_directory}/model_{iteration}.h5')\n"
     ]
    },
    {
     "name": "stdout",
     "output_type": "stream",
     "text": [
      "Current update_size is  432\n",
      "Best validation loss: 18.29999351501465\n",
      "Best validation loss: 41.25393295288086\n",
      "Best validation loss: 153.78602600097656\n",
      "Best validation loss: 52.98677444458008\n",
      "Best validation loss: 327.94830322265625\n",
      "Best validation loss: 12.43316650390625\n",
      "Best validation loss: 9.32078742980957\n",
      "Best validation loss: 15.476105690002441\n",
      "Best validation loss: 25.327861785888672\n",
      "Best validation loss: 83.68888854980469\n",
      "Best validation loss: 99.0674819946289\n",
      "Best validation loss: 147.12310791015625\n",
      "Best validation loss: 15.524938583374023\n",
      "Best validation loss: 22.416091918945312\n",
      "Best validation loss: 78.51005554199219\n",
      "Best validation loss: 103.29713439941406\n",
      "Best validation loss: 17.99585723876953\n",
      "Best validation loss: 145.72314453125\n",
      "Best validation loss: 22.56087875366211\n",
      "Best validation loss: 108.03840637207031\n"
     ]
    },
    {
     "name": "stderr",
     "output_type": "stream",
     "text": [
      "C:\\Users\\VANKK\\anaconda3\\Lib\\site-packages\\sklearn\\gaussian_process\\kernels.py:420: ConvergenceWarning: The optimal value found for dimension 0 of parameter length_scale is close to the specified lower bound 1e-05. Decreasing the bound and calling fit again may find a better value.\n",
      "  warnings.warn(\n"
     ]
    },
    {
     "name": "stdout",
     "output_type": "stream",
     "text": [
      "Best validation loss: 9.06833267211914\n"
     ]
    },
    {
     "name": "stderr",
     "output_type": "stream",
     "text": [
      "C:\\Users\\VANKK\\anaconda3\\Lib\\site-packages\\sklearn\\gaussian_process\\kernels.py:420: ConvergenceWarning: The optimal value found for dimension 0 of parameter length_scale is close to the specified lower bound 1e-05. Decreasing the bound and calling fit again may find a better value.\n",
      "  warnings.warn(\n"
     ]
    },
    {
     "name": "stdout",
     "output_type": "stream",
     "text": [
      "Best validation loss: 61.523460388183594\n"
     ]
    },
    {
     "name": "stderr",
     "output_type": "stream",
     "text": [
      "C:\\Users\\VANKK\\anaconda3\\Lib\\site-packages\\sklearn\\gaussian_process\\kernels.py:420: ConvergenceWarning: The optimal value found for dimension 0 of parameter length_scale is close to the specified lower bound 1e-05. Decreasing the bound and calling fit again may find a better value.\n",
      "  warnings.warn(\n"
     ]
    },
    {
     "name": "stdout",
     "output_type": "stream",
     "text": [
      "Best validation loss: 87.82646179199219\n"
     ]
    },
    {
     "name": "stderr",
     "output_type": "stream",
     "text": [
      "C:\\Users\\VANKK\\anaconda3\\Lib\\site-packages\\sklearn\\gaussian_process\\kernels.py:420: ConvergenceWarning: The optimal value found for dimension 0 of parameter length_scale is close to the specified lower bound 1e-05. Decreasing the bound and calling fit again may find a better value.\n",
      "  warnings.warn(\n"
     ]
    },
    {
     "name": "stdout",
     "output_type": "stream",
     "text": [
      "Best validation loss: 24.706106185913086\n",
      "Best validation loss: 21.450227737426758\n",
      "Best validation loss: 10.896987915039062\n",
      "Best validation loss: 9.725419044494629\n",
      "Best validation loss: 9.517147064208984\n",
      "Best validation loss: 49.90281295776367\n",
      "Best validation loss: 19.317249298095703\n",
      "Best validation loss: 13.4049072265625\n",
      "Best validation loss: 25.25373649597168\n",
      "Best validation loss: 8.106738090515137\n",
      "Best validation loss: 16.386594772338867\n",
      "Best validation loss: 25.82465362548828\n",
      "Best validation loss: 15.310450553894043\n",
      "Best validation loss: 521.9542846679688\n",
      "Best validation loss: 9.684551239013672\n",
      "Best validation loss: 13.531414985656738\n",
      "Best validation loss: 31.374738693237305\n",
      "Best validation loss: 25.882043838500977\n",
      "Best validation loss: 15.281070709228516\n",
      "Best validation loss: 15.97037124633789\n",
      "Best validation loss: 14.700843811035156\n",
      "Best validation loss: 8.728965759277344\n",
      "Best validation loss: 16.465646743774414\n",
      "Best validation loss: 11.486239433288574\n",
      "Best validation loss: 17.756032943725586\n",
      "Best validation loss: 16.82221794128418\n",
      "Best validation loss: 13.818523406982422\n",
      "INFO:tensorflow:Oracle triggered exit\n",
      "WARNING:tensorflow:Detecting that an object or model or tf.train.Checkpoint is being deleted with unrestored values. See the following logs for the specific values in question. To silence these warnings, use `status.expect_partial()`. See https://www.tensorflow.org/api_docs/python/tf/train/Checkpoint#restorefor details about the status object returned by the restore function.\n",
      "WARNING:tensorflow:Value in checkpoint could not be found in the restored object: (root).optimizer._variables.1\n",
      "WARNING:tensorflow:Value in checkpoint could not be found in the restored object: (root).optimizer._variables.2\n",
      "WARNING:tensorflow:Value in checkpoint could not be found in the restored object: (root).optimizer._variables.3\n",
      "WARNING:tensorflow:Value in checkpoint could not be found in the restored object: (root).optimizer._variables.4\n",
      "WARNING:tensorflow:Value in checkpoint could not be found in the restored object: (root).optimizer._variables.5\n",
      "WARNING:tensorflow:Value in checkpoint could not be found in the restored object: (root).optimizer._variables.6\n",
      "WARNING:tensorflow:Value in checkpoint could not be found in the restored object: (root).optimizer._variables.7\n",
      "WARNING:tensorflow:Value in checkpoint could not be found in the restored object: (root).optimizer._variables.8\n",
      "WARNING:tensorflow:Value in checkpoint could not be found in the restored object: (root).optimizer._variables.9\n",
      "WARNING:tensorflow:Value in checkpoint could not be found in the restored object: (root).optimizer._variables.10\n",
      "WARNING:tensorflow:Value in checkpoint could not be found in the restored object: (root).optimizer._variables.11\n",
      "WARNING:tensorflow:Value in checkpoint could not be found in the restored object: (root).optimizer._variables.12\n",
      "WARNING:tensorflow:Value in checkpoint could not be found in the restored object: (root).optimizer._variables.13\n",
      "WARNING:tensorflow:Value in checkpoint could not be found in the restored object: (root).optimizer._variables.14\n",
      "WARNING:tensorflow:Value in checkpoint could not be found in the restored object: (root).optimizer._variables.15\n",
      "WARNING:tensorflow:Value in checkpoint could not be found in the restored object: (root).optimizer._variables.16\n",
      "WARNING:tensorflow:Value in checkpoint could not be found in the restored object: (root).optimizer._variables.17\n",
      "WARNING:tensorflow:Value in checkpoint could not be found in the restored object: (root).optimizer._variables.18\n",
      "WARNING:tensorflow:Value in checkpoint could not be found in the restored object: (root).optimizer._variables.19\n",
      "WARNING:tensorflow:Value in checkpoint could not be found in the restored object: (root).optimizer._variables.20\n"
     ]
    },
    {
     "name": "stderr",
     "output_type": "stream",
     "text": [
      "C:\\Users\\VANKK\\AppData\\Local\\Temp\\ipykernel_4960\\1998982945.py:20: UserWarning: You are saving your model as an HDF5 file via `model.save()`. This file format is considered legacy. We recommend using instead the native Keras format, e.g. `model.save('my_model.keras')`.\n",
      "  save_model(best_model, f'{save_directory}/model_{iteration}.h5')\n"
     ]
    },
    {
     "name": "stdout",
     "output_type": "stream",
     "text": [
      "Current update_size is  388\n",
      "Best validation loss: 9.991387367248535\n",
      "Best validation loss: 11.647441864013672\n",
      "Best validation loss: 12.608803749084473\n",
      "Best validation loss: 8.723408699035645\n",
      "Best validation loss: 13.320499420166016\n",
      "Best validation loss: 111.34894561767578\n",
      "Best validation loss: 86.4439697265625\n",
      "Best validation loss: 99.98970794677734\n",
      "Best validation loss: 29.12984275817871\n",
      "Best validation loss: 18.097116470336914\n",
      "Best validation loss: 41.95135498046875\n",
      "Best validation loss: 48.236045837402344\n",
      "Best validation loss: 28.542694091796875\n",
      "Best validation loss: 58.21113967895508\n",
      "Best validation loss: 13.732373237609863\n",
      "Best validation loss: 18.448606491088867\n",
      "Best validation loss: 43.07333755493164\n",
      "Best validation loss: 6.89773416519165\n",
      "Best validation loss: 17.339317321777344\n",
      "Best validation loss: 16.43063735961914\n"
     ]
    },
    {
     "name": "stderr",
     "output_type": "stream",
     "text": [
      "C:\\Users\\VANKK\\anaconda3\\Lib\\site-packages\\sklearn\\gaussian_process\\kernels.py:420: ConvergenceWarning: The optimal value found for dimension 0 of parameter length_scale is close to the specified lower bound 1e-05. Decreasing the bound and calling fit again may find a better value.\n",
      "  warnings.warn(\n"
     ]
    },
    {
     "name": "stdout",
     "output_type": "stream",
     "text": [
      "Best validation loss: 26.646512985229492\n"
     ]
    },
    {
     "name": "stderr",
     "output_type": "stream",
     "text": [
      "C:\\Users\\VANKK\\anaconda3\\Lib\\site-packages\\sklearn\\gaussian_process\\kernels.py:420: ConvergenceWarning: The optimal value found for dimension 0 of parameter length_scale is close to the specified lower bound 1e-05. Decreasing the bound and calling fit again may find a better value.\n",
      "  warnings.warn(\n"
     ]
    },
    {
     "name": "stdout",
     "output_type": "stream",
     "text": [
      "Best validation loss: 10.533613204956055\n"
     ]
    },
    {
     "name": "stderr",
     "output_type": "stream",
     "text": [
      "C:\\Users\\VANKK\\anaconda3\\Lib\\site-packages\\sklearn\\gaussian_process\\kernels.py:420: ConvergenceWarning: The optimal value found for dimension 0 of parameter length_scale is close to the specified lower bound 1e-05. Decreasing the bound and calling fit again may find a better value.\n",
      "  warnings.warn(\n"
     ]
    },
    {
     "name": "stdout",
     "output_type": "stream",
     "text": [
      "Best validation loss: 19.187345504760742\n"
     ]
    },
    {
     "name": "stderr",
     "output_type": "stream",
     "text": [
      "C:\\Users\\VANKK\\anaconda3\\Lib\\site-packages\\sklearn\\gaussian_process\\kernels.py:420: ConvergenceWarning: The optimal value found for dimension 0 of parameter length_scale is close to the specified lower bound 1e-05. Decreasing the bound and calling fit again may find a better value.\n",
      "  warnings.warn(\n"
     ]
    },
    {
     "name": "stdout",
     "output_type": "stream",
     "text": [
      "Best validation loss: 54.13720703125\n"
     ]
    },
    {
     "name": "stderr",
     "output_type": "stream",
     "text": [
      "C:\\Users\\VANKK\\anaconda3\\Lib\\site-packages\\sklearn\\gaussian_process\\kernels.py:420: ConvergenceWarning: The optimal value found for dimension 0 of parameter length_scale is close to the specified lower bound 1e-05. Decreasing the bound and calling fit again may find a better value.\n",
      "  warnings.warn(\n"
     ]
    },
    {
     "name": "stdout",
     "output_type": "stream",
     "text": [
      "Best validation loss: 7.212155342102051\n"
     ]
    },
    {
     "name": "stderr",
     "output_type": "stream",
     "text": [
      "C:\\Users\\VANKK\\anaconda3\\Lib\\site-packages\\sklearn\\gaussian_process\\kernels.py:420: ConvergenceWarning: The optimal value found for dimension 0 of parameter length_scale is close to the specified lower bound 1e-05. Decreasing the bound and calling fit again may find a better value.\n",
      "  warnings.warn(\n"
     ]
    },
    {
     "name": "stdout",
     "output_type": "stream",
     "text": [
      "Best validation loss: 151.5828857421875\n"
     ]
    },
    {
     "name": "stderr",
     "output_type": "stream",
     "text": [
      "C:\\Users\\VANKK\\anaconda3\\Lib\\site-packages\\sklearn\\gaussian_process\\kernels.py:420: ConvergenceWarning: The optimal value found for dimension 0 of parameter length_scale is close to the specified lower bound 1e-05. Decreasing the bound and calling fit again may find a better value.\n",
      "  warnings.warn(\n"
     ]
    },
    {
     "name": "stdout",
     "output_type": "stream",
     "text": [
      "Best validation loss: 24.99686622619629\n"
     ]
    },
    {
     "name": "stderr",
     "output_type": "stream",
     "text": [
      "C:\\Users\\VANKK\\anaconda3\\Lib\\site-packages\\sklearn\\gaussian_process\\kernels.py:420: ConvergenceWarning: The optimal value found for dimension 0 of parameter length_scale is close to the specified lower bound 1e-05. Decreasing the bound and calling fit again may find a better value.\n",
      "  warnings.warn(\n"
     ]
    },
    {
     "name": "stdout",
     "output_type": "stream",
     "text": [
      "Best validation loss: 9.477728843688965\n"
     ]
    },
    {
     "name": "stderr",
     "output_type": "stream",
     "text": [
      "C:\\Users\\VANKK\\anaconda3\\Lib\\site-packages\\sklearn\\gaussian_process\\kernels.py:420: ConvergenceWarning: The optimal value found for dimension 0 of parameter length_scale is close to the specified lower bound 1e-05. Decreasing the bound and calling fit again may find a better value.\n",
      "  warnings.warn(\n"
     ]
    },
    {
     "name": "stdout",
     "output_type": "stream",
     "text": [
      "Best validation loss: 25.569602966308594\n"
     ]
    },
    {
     "name": "stderr",
     "output_type": "stream",
     "text": [
      "C:\\Users\\VANKK\\anaconda3\\Lib\\site-packages\\sklearn\\gaussian_process\\kernels.py:420: ConvergenceWarning: The optimal value found for dimension 0 of parameter length_scale is close to the specified lower bound 1e-05. Decreasing the bound and calling fit again may find a better value.\n",
      "  warnings.warn(\n"
     ]
    },
    {
     "name": "stdout",
     "output_type": "stream",
     "text": [
      "Best validation loss: 343.32440185546875\n"
     ]
    },
    {
     "name": "stderr",
     "output_type": "stream",
     "text": [
      "C:\\Users\\VANKK\\anaconda3\\Lib\\site-packages\\sklearn\\gaussian_process\\kernels.py:420: ConvergenceWarning: The optimal value found for dimension 0 of parameter length_scale is close to the specified lower bound 1e-05. Decreasing the bound and calling fit again may find a better value.\n",
      "  warnings.warn(\n"
     ]
    },
    {
     "name": "stdout",
     "output_type": "stream",
     "text": [
      "Best validation loss: 340.3544616699219\n"
     ]
    },
    {
     "name": "stderr",
     "output_type": "stream",
     "text": [
      "C:\\Users\\VANKK\\anaconda3\\Lib\\site-packages\\sklearn\\gaussian_process\\kernels.py:420: ConvergenceWarning: The optimal value found for dimension 0 of parameter length_scale is close to the specified lower bound 1e-05. Decreasing the bound and calling fit again may find a better value.\n",
      "  warnings.warn(\n"
     ]
    },
    {
     "name": "stdout",
     "output_type": "stream",
     "text": [
      "Best validation loss: 11.751226425170898\n"
     ]
    },
    {
     "name": "stderr",
     "output_type": "stream",
     "text": [
      "C:\\Users\\VANKK\\anaconda3\\Lib\\site-packages\\sklearn\\gaussian_process\\kernels.py:420: ConvergenceWarning: The optimal value found for dimension 0 of parameter length_scale is close to the specified lower bound 1e-05. Decreasing the bound and calling fit again may find a better value.\n",
      "  warnings.warn(\n"
     ]
    },
    {
     "name": "stdout",
     "output_type": "stream",
     "text": [
      "Best validation loss: 16.705915451049805\n"
     ]
    },
    {
     "name": "stderr",
     "output_type": "stream",
     "text": [
      "C:\\Users\\VANKK\\anaconda3\\Lib\\site-packages\\sklearn\\gaussian_process\\kernels.py:420: ConvergenceWarning: The optimal value found for dimension 0 of parameter length_scale is close to the specified lower bound 1e-05. Decreasing the bound and calling fit again may find a better value.\n",
      "  warnings.warn(\n"
     ]
    },
    {
     "name": "stdout",
     "output_type": "stream",
     "text": [
      "Best validation loss: 7.413329124450684\n"
     ]
    },
    {
     "name": "stderr",
     "output_type": "stream",
     "text": [
      "C:\\Users\\VANKK\\anaconda3\\Lib\\site-packages\\sklearn\\gaussian_process\\kernels.py:420: ConvergenceWarning: The optimal value found for dimension 0 of parameter length_scale is close to the specified lower bound 1e-05. Decreasing the bound and calling fit again may find a better value.\n",
      "  warnings.warn(\n"
     ]
    },
    {
     "name": "stdout",
     "output_type": "stream",
     "text": [
      "Best validation loss: 14.345422744750977\n"
     ]
    },
    {
     "name": "stderr",
     "output_type": "stream",
     "text": [
      "C:\\Users\\VANKK\\anaconda3\\Lib\\site-packages\\sklearn\\gaussian_process\\kernels.py:420: ConvergenceWarning: The optimal value found for dimension 0 of parameter length_scale is close to the specified lower bound 1e-05. Decreasing the bound and calling fit again may find a better value.\n",
      "  warnings.warn(\n"
     ]
    },
    {
     "name": "stdout",
     "output_type": "stream",
     "text": [
      "Best validation loss: 14.918208122253418\n"
     ]
    },
    {
     "name": "stderr",
     "output_type": "stream",
     "text": [
      "C:\\Users\\VANKK\\anaconda3\\Lib\\site-packages\\sklearn\\gaussian_process\\kernels.py:420: ConvergenceWarning: The optimal value found for dimension 0 of parameter length_scale is close to the specified lower bound 1e-05. Decreasing the bound and calling fit again may find a better value.\n",
      "  warnings.warn(\n"
     ]
    },
    {
     "name": "stdout",
     "output_type": "stream",
     "text": [
      "Best validation loss: 12.005411148071289\n"
     ]
    },
    {
     "name": "stderr",
     "output_type": "stream",
     "text": [
      "C:\\Users\\VANKK\\anaconda3\\Lib\\site-packages\\sklearn\\gaussian_process\\kernels.py:420: ConvergenceWarning: The optimal value found for dimension 0 of parameter length_scale is close to the specified lower bound 1e-05. Decreasing the bound and calling fit again may find a better value.\n",
      "  warnings.warn(\n"
     ]
    },
    {
     "name": "stdout",
     "output_type": "stream",
     "text": [
      "Best validation loss: 81.0003890991211\n"
     ]
    },
    {
     "name": "stderr",
     "output_type": "stream",
     "text": [
      "C:\\Users\\VANKK\\anaconda3\\Lib\\site-packages\\sklearn\\gaussian_process\\kernels.py:420: ConvergenceWarning: The optimal value found for dimension 0 of parameter length_scale is close to the specified lower bound 1e-05. Decreasing the bound and calling fit again may find a better value.\n",
      "  warnings.warn(\n"
     ]
    },
    {
     "name": "stdout",
     "output_type": "stream",
     "text": [
      "Best validation loss: 55.26869583129883\n"
     ]
    },
    {
     "name": "stderr",
     "output_type": "stream",
     "text": [
      "C:\\Users\\VANKK\\anaconda3\\Lib\\site-packages\\sklearn\\gaussian_process\\kernels.py:420: ConvergenceWarning: The optimal value found for dimension 0 of parameter length_scale is close to the specified lower bound 1e-05. Decreasing the bound and calling fit again may find a better value.\n",
      "  warnings.warn(\n"
     ]
    },
    {
     "name": "stdout",
     "output_type": "stream",
     "text": [
      "Best validation loss: 71.09619903564453\n"
     ]
    },
    {
     "name": "stderr",
     "output_type": "stream",
     "text": [
      "C:\\Users\\VANKK\\anaconda3\\Lib\\site-packages\\sklearn\\gaussian_process\\kernels.py:420: ConvergenceWarning: The optimal value found for dimension 0 of parameter length_scale is close to the specified lower bound 1e-05. Decreasing the bound and calling fit again may find a better value.\n",
      "  warnings.warn(\n"
     ]
    },
    {
     "name": "stdout",
     "output_type": "stream",
     "text": [
      "Best validation loss: 8.504289627075195\n"
     ]
    },
    {
     "name": "stderr",
     "output_type": "stream",
     "text": [
      "C:\\Users\\VANKK\\anaconda3\\Lib\\site-packages\\sklearn\\gaussian_process\\kernels.py:420: ConvergenceWarning: The optimal value found for dimension 0 of parameter length_scale is close to the specified lower bound 1e-05. Decreasing the bound and calling fit again may find a better value.\n",
      "  warnings.warn(\n"
     ]
    },
    {
     "name": "stdout",
     "output_type": "stream",
     "text": [
      "Best validation loss: 13.960601806640625\n"
     ]
    },
    {
     "name": "stderr",
     "output_type": "stream",
     "text": [
      "C:\\Users\\VANKK\\anaconda3\\Lib\\site-packages\\sklearn\\gaussian_process\\kernels.py:420: ConvergenceWarning: The optimal value found for dimension 0 of parameter length_scale is close to the specified lower bound 1e-05. Decreasing the bound and calling fit again may find a better value.\n",
      "  warnings.warn(\n"
     ]
    },
    {
     "name": "stdout",
     "output_type": "stream",
     "text": [
      "Best validation loss: 100.36931610107422\n"
     ]
    },
    {
     "name": "stderr",
     "output_type": "stream",
     "text": [
      "C:\\Users\\VANKK\\anaconda3\\Lib\\site-packages\\sklearn\\gaussian_process\\kernels.py:420: ConvergenceWarning: The optimal value found for dimension 0 of parameter length_scale is close to the specified lower bound 1e-05. Decreasing the bound and calling fit again may find a better value.\n",
      "  warnings.warn(\n"
     ]
    },
    {
     "name": "stdout",
     "output_type": "stream",
     "text": [
      "Best validation loss: 12.444368362426758\n"
     ]
    },
    {
     "name": "stderr",
     "output_type": "stream",
     "text": [
      "C:\\Users\\VANKK\\anaconda3\\Lib\\site-packages\\sklearn\\gaussian_process\\kernels.py:420: ConvergenceWarning: The optimal value found for dimension 0 of parameter length_scale is close to the specified lower bound 1e-05. Decreasing the bound and calling fit again may find a better value.\n",
      "  warnings.warn(\n"
     ]
    },
    {
     "name": "stdout",
     "output_type": "stream",
     "text": [
      "Best validation loss: 14.3656005859375\n"
     ]
    },
    {
     "name": "stderr",
     "output_type": "stream",
     "text": [
      "C:\\Users\\VANKK\\anaconda3\\Lib\\site-packages\\sklearn\\gaussian_process\\kernels.py:420: ConvergenceWarning: The optimal value found for dimension 0 of parameter length_scale is close to the specified lower bound 1e-05. Decreasing the bound and calling fit again may find a better value.\n",
      "  warnings.warn(\n"
     ]
    },
    {
     "name": "stdout",
     "output_type": "stream",
     "text": [
      "Best validation loss: 10.996980667114258\n"
     ]
    },
    {
     "name": "stderr",
     "output_type": "stream",
     "text": [
      "C:\\Users\\VANKK\\anaconda3\\Lib\\site-packages\\sklearn\\gaussian_process\\kernels.py:420: ConvergenceWarning: The optimal value found for dimension 0 of parameter length_scale is close to the specified lower bound 1e-05. Decreasing the bound and calling fit again may find a better value.\n",
      "  warnings.warn(\n"
     ]
    },
    {
     "name": "stdout",
     "output_type": "stream",
     "text": [
      "Best validation loss: 19.057405471801758\n"
     ]
    },
    {
     "name": "stderr",
     "output_type": "stream",
     "text": [
      "C:\\Users\\VANKK\\anaconda3\\Lib\\site-packages\\sklearn\\gaussian_process\\kernels.py:420: ConvergenceWarning: The optimal value found for dimension 0 of parameter length_scale is close to the specified lower bound 1e-05. Decreasing the bound and calling fit again may find a better value.\n",
      "  warnings.warn(\n"
     ]
    },
    {
     "name": "stdout",
     "output_type": "stream",
     "text": [
      "Best validation loss: 27.269412994384766\n"
     ]
    },
    {
     "name": "stderr",
     "output_type": "stream",
     "text": [
      "C:\\Users\\VANKK\\anaconda3\\Lib\\site-packages\\sklearn\\gaussian_process\\kernels.py:420: ConvergenceWarning: The optimal value found for dimension 0 of parameter length_scale is close to the specified lower bound 1e-05. Decreasing the bound and calling fit again may find a better value.\n",
      "  warnings.warn(\n"
     ]
    },
    {
     "name": "stdout",
     "output_type": "stream",
     "text": [
      "Best validation loss: 14.33767032623291\n"
     ]
    },
    {
     "name": "stderr",
     "output_type": "stream",
     "text": [
      "C:\\Users\\VANKK\\anaconda3\\Lib\\site-packages\\sklearn\\gaussian_process\\kernels.py:420: ConvergenceWarning: The optimal value found for dimension 0 of parameter length_scale is close to the specified lower bound 1e-05. Decreasing the bound and calling fit again may find a better value.\n",
      "  warnings.warn(\n"
     ]
    },
    {
     "name": "stdout",
     "output_type": "stream",
     "text": [
      "Best validation loss: 95.87046813964844\n",
      "INFO:tensorflow:Oracle triggered exit\n",
      "WARNING:tensorflow:Detecting that an object or model or tf.train.Checkpoint is being deleted with unrestored values. See the following logs for the specific values in question. To silence these warnings, use `status.expect_partial()`. See https://www.tensorflow.org/api_docs/python/tf/train/Checkpoint#restorefor details about the status object returned by the restore function.\n",
      "WARNING:tensorflow:Value in checkpoint could not be found in the restored object: (root).optimizer._variables.1\n",
      "WARNING:tensorflow:Value in checkpoint could not be found in the restored object: (root).optimizer._variables.2\n",
      "WARNING:tensorflow:Value in checkpoint could not be found in the restored object: (root).optimizer._variables.3\n",
      "WARNING:tensorflow:Value in checkpoint could not be found in the restored object: (root).optimizer._variables.4\n",
      "WARNING:tensorflow:Value in checkpoint could not be found in the restored object: (root).optimizer._variables.5\n",
      "WARNING:tensorflow:Value in checkpoint could not be found in the restored object: (root).optimizer._variables.6\n",
      "WARNING:tensorflow:Value in checkpoint could not be found in the restored object: (root).optimizer._variables.7\n",
      "WARNING:tensorflow:Value in checkpoint could not be found in the restored object: (root).optimizer._variables.8\n",
      "WARNING:tensorflow:Value in checkpoint could not be found in the restored object: (root).optimizer._variables.9\n",
      "WARNING:tensorflow:Value in checkpoint could not be found in the restored object: (root).optimizer._variables.10\n",
      "WARNING:tensorflow:Value in checkpoint could not be found in the restored object: (root).optimizer._variables.11\n",
      "WARNING:tensorflow:Value in checkpoint could not be found in the restored object: (root).optimizer._variables.12\n",
      "WARNING:tensorflow:Value in checkpoint could not be found in the restored object: (root).optimizer._variables.13\n",
      "WARNING:tensorflow:Value in checkpoint could not be found in the restored object: (root).optimizer._variables.14\n",
      "WARNING:tensorflow:Value in checkpoint could not be found in the restored object: (root).optimizer._variables.15\n",
      "WARNING:tensorflow:Value in checkpoint could not be found in the restored object: (root).optimizer._variables.16\n",
      "WARNING:tensorflow:Value in checkpoint could not be found in the restored object: (root).optimizer._variables.17\n",
      "WARNING:tensorflow:Value in checkpoint could not be found in the restored object: (root).optimizer._variables.18\n",
      "WARNING:tensorflow:Value in checkpoint could not be found in the restored object: (root).optimizer._variables.19\n",
      "WARNING:tensorflow:Value in checkpoint could not be found in the restored object: (root).optimizer._variables.20\n"
     ]
    },
    {
     "name": "stderr",
     "output_type": "stream",
     "text": [
      "C:\\Users\\VANKK\\AppData\\Local\\Temp\\ipykernel_4960\\1998982945.py:20: UserWarning: You are saving your model as an HDF5 file via `model.save()`. This file format is considered legacy. We recommend using instead the native Keras format, e.g. `model.save('my_model.keras')`.\n",
      "  save_model(best_model, f'{save_directory}/model_{iteration}.h5')\n"
     ]
    },
    {
     "name": "stdout",
     "output_type": "stream",
     "text": [
      "Current update_size is  344\n",
      "Best validation loss: 36.38749313354492\n",
      "Best validation loss: 46.214603424072266\n",
      "Best validation loss: 50.03291320800781\n",
      "Best validation loss: 41.03703308105469\n",
      "Best validation loss: 38.91205596923828\n",
      "Best validation loss: 7.110857009887695\n",
      "Best validation loss: 83.08991241455078\n",
      "Best validation loss: 36.82240676879883\n",
      "Best validation loss: 11.248457908630371\n",
      "Best validation loss: 9.732219696044922\n",
      "Best validation loss: 121.05493927001953\n",
      "Best validation loss: 20.335298538208008\n",
      "Best validation loss: 12.920064926147461\n",
      "Best validation loss: 93.01748657226562\n",
      "Best validation loss: 50.146114349365234\n",
      "Best validation loss: 56.416969299316406\n",
      "Best validation loss: 8.052022933959961\n",
      "Best validation loss: 19.930706024169922\n",
      "Best validation loss: 27.543718338012695\n",
      "Best validation loss: 16.74648666381836\n",
      "Best validation loss: 6.795771598815918\n",
      "Best validation loss: 29.005399703979492\n",
      "Best validation loss: 9.742831230163574\n",
      "Best validation loss: 15.364335060119629\n",
      "Best validation loss: 14.284319877624512\n",
      "Best validation loss: 9.763716697692871\n",
      "Best validation loss: 22.973772048950195\n",
      "Best validation loss: 38.33362579345703\n",
      "Best validation loss: 7.103374481201172\n",
      "Best validation loss: 8.501513481140137\n",
      "Best validation loss: 7.554572105407715\n",
      "Best validation loss: 20.07151222229004\n",
      "Best validation loss: 7.914853572845459\n",
      "Best validation loss: 7.666643142700195\n",
      "Best validation loss: 8.65351676940918\n",
      "Best validation loss: 7.89288854598999\n",
      "Best validation loss: 7.649483680725098\n",
      "Best validation loss: 7.44340181350708\n",
      "Best validation loss: 8.021987915039062\n",
      "Best validation loss: 8.033817291259766\n",
      "Best validation loss: 10.908565521240234\n",
      "Best validation loss: 9.141166687011719\n",
      "Best validation loss: 9.04201602935791\n",
      "Best validation loss: 19.50897979736328\n",
      "Best validation loss: 8.355277061462402\n",
      "Best validation loss: 7.863494396209717\n",
      "Best validation loss: 7.537425994873047\n",
      "Best validation loss: 8.056182861328125\n",
      "Best validation loss: 11.963948249816895\n",
      "Best validation loss: 8.717164039611816\n",
      "INFO:tensorflow:Oracle triggered exit\n",
      "WARNING:tensorflow:Detecting that an object or model or tf.train.Checkpoint is being deleted with unrestored values. See the following logs for the specific values in question. To silence these warnings, use `status.expect_partial()`. See https://www.tensorflow.org/api_docs/python/tf/train/Checkpoint#restorefor details about the status object returned by the restore function.\n",
      "WARNING:tensorflow:Value in checkpoint could not be found in the restored object: (root).optimizer._variables.1\n",
      "WARNING:tensorflow:Value in checkpoint could not be found in the restored object: (root).optimizer._variables.2\n",
      "WARNING:tensorflow:Value in checkpoint could not be found in the restored object: (root).optimizer._variables.3\n",
      "WARNING:tensorflow:Value in checkpoint could not be found in the restored object: (root).optimizer._variables.4\n",
      "WARNING:tensorflow:Value in checkpoint could not be found in the restored object: (root).optimizer._variables.5\n",
      "WARNING:tensorflow:Value in checkpoint could not be found in the restored object: (root).optimizer._variables.6\n",
      "WARNING:tensorflow:Value in checkpoint could not be found in the restored object: (root).optimizer._variables.7\n",
      "WARNING:tensorflow:Value in checkpoint could not be found in the restored object: (root).optimizer._variables.8\n",
      "WARNING:tensorflow:Value in checkpoint could not be found in the restored object: (root).optimizer._variables.9\n",
      "WARNING:tensorflow:Value in checkpoint could not be found in the restored object: (root).optimizer._variables.10\n",
      "WARNING:tensorflow:Value in checkpoint could not be found in the restored object: (root).optimizer._variables.11\n",
      "WARNING:tensorflow:Value in checkpoint could not be found in the restored object: (root).optimizer._variables.12\n",
      "WARNING:tensorflow:Value in checkpoint could not be found in the restored object: (root).optimizer._variables.13\n",
      "WARNING:tensorflow:Value in checkpoint could not be found in the restored object: (root).optimizer._variables.14\n",
      "WARNING:tensorflow:Value in checkpoint could not be found in the restored object: (root).optimizer._variables.15\n",
      "WARNING:tensorflow:Value in checkpoint could not be found in the restored object: (root).optimizer._variables.16\n",
      "WARNING:tensorflow:Value in checkpoint could not be found in the restored object: (root).optimizer._variables.17\n",
      "WARNING:tensorflow:Value in checkpoint could not be found in the restored object: (root).optimizer._variables.18\n",
      "WARNING:tensorflow:Value in checkpoint could not be found in the restored object: (root).optimizer._variables.19\n",
      "WARNING:tensorflow:Value in checkpoint could not be found in the restored object: (root).optimizer._variables.20\n"
     ]
    },
    {
     "name": "stderr",
     "output_type": "stream",
     "text": [
      "C:\\Users\\VANKK\\AppData\\Local\\Temp\\ipykernel_4960\\1998982945.py:20: UserWarning: You are saving your model as an HDF5 file via `model.save()`. This file format is considered legacy. We recommend using instead the native Keras format, e.g. `model.save('my_model.keras')`.\n",
      "  save_model(best_model, f'{save_directory}/model_{iteration}.h5')\n"
     ]
    },
    {
     "name": "stdout",
     "output_type": "stream",
     "text": [
      "Current update_size is  300\n",
      "Best validation loss: 10.55203914642334\n",
      "Best validation loss: 218.8269500732422\n",
      "Best validation loss: 24.191152572631836\n",
      "Best validation loss: 22.745500564575195\n",
      "Best validation loss: 215.4993133544922\n",
      "Best validation loss: 105.38336944580078\n",
      "Best validation loss: 6.898407936096191\n",
      "Best validation loss: 66.66592407226562\n",
      "Best validation loss: 8.673294067382812\n",
      "Best validation loss: 18.823091506958008\n",
      "Best validation loss: 330.50244140625\n",
      "Best validation loss: 57.93412780761719\n",
      "Best validation loss: 8.815978050231934\n",
      "Best validation loss: 14.28915786743164\n",
      "Best validation loss: 9.446764945983887\n",
      "Best validation loss: 14.558141708374023\n",
      "Best validation loss: 88.0158462524414\n",
      "Best validation loss: 27.12936782836914\n",
      "Best validation loss: 95.59476470947266\n",
      "Best validation loss: 16.430419921875\n",
      "Best validation loss: 9.503997802734375\n",
      "Best validation loss: 50.26320266723633\n",
      "Best validation loss: 11.361480712890625\n",
      "Best validation loss: 21.997575759887695\n",
      "Best validation loss: 7.227014064788818\n",
      "Best validation loss: 18.029850006103516\n",
      "Best validation loss: 39.33165740966797\n",
      "Best validation loss: 21.598848342895508\n",
      "Best validation loss: 8.364618301391602\n",
      "Best validation loss: 12.572488784790039\n",
      "Best validation loss: 71.78943634033203\n",
      "Best validation loss: 118.12779235839844\n",
      "Best validation loss: 15.95300579071045\n",
      "Best validation loss: 7.108850479125977\n",
      "Best validation loss: 16.7587890625\n",
      "Best validation loss: 30.773786544799805\n",
      "Best validation loss: 12.4682035446167\n",
      "Best validation loss: 47.34396743774414\n",
      "Best validation loss: 10.881214141845703\n",
      "Best validation loss: 25.22182846069336\n",
      "Best validation loss: 11.719439506530762\n",
      "Best validation loss: 10.85360336303711\n",
      "Best validation loss: 18.09491539001465\n",
      "Best validation loss: 14.206256866455078\n",
      "Best validation loss: 7.9711456298828125\n",
      "Best validation loss: 9.262051582336426\n",
      "Best validation loss: 9.012249946594238\n",
      "Best validation loss: 34.189598083496094\n",
      "Best validation loss: 16.85413360595703\n",
      "Best validation loss: 11.858428001403809\n",
      "INFO:tensorflow:Oracle triggered exit\n",
      "WARNING:tensorflow:Detecting that an object or model or tf.train.Checkpoint is being deleted with unrestored values. See the following logs for the specific values in question. To silence these warnings, use `status.expect_partial()`. See https://www.tensorflow.org/api_docs/python/tf/train/Checkpoint#restorefor details about the status object returned by the restore function.\n",
      "WARNING:tensorflow:Value in checkpoint could not be found in the restored object: (root).optimizer._variables.1\n",
      "WARNING:tensorflow:Value in checkpoint could not be found in the restored object: (root).optimizer._variables.2\n",
      "WARNING:tensorflow:Value in checkpoint could not be found in the restored object: (root).optimizer._variables.3\n",
      "WARNING:tensorflow:Value in checkpoint could not be found in the restored object: (root).optimizer._variables.4\n",
      "WARNING:tensorflow:Value in checkpoint could not be found in the restored object: (root).optimizer._variables.5\n",
      "WARNING:tensorflow:Value in checkpoint could not be found in the restored object: (root).optimizer._variables.6\n",
      "WARNING:tensorflow:Value in checkpoint could not be found in the restored object: (root).optimizer._variables.7\n",
      "WARNING:tensorflow:Value in checkpoint could not be found in the restored object: (root).optimizer._variables.8\n",
      "WARNING:tensorflow:Value in checkpoint could not be found in the restored object: (root).optimizer._variables.9\n",
      "WARNING:tensorflow:Value in checkpoint could not be found in the restored object: (root).optimizer._variables.10\n",
      "WARNING:tensorflow:Value in checkpoint could not be found in the restored object: (root).optimizer._variables.11\n",
      "WARNING:tensorflow:Value in checkpoint could not be found in the restored object: (root).optimizer._variables.12\n",
      "WARNING:tensorflow:Value in checkpoint could not be found in the restored object: (root).optimizer._variables.13\n",
      "WARNING:tensorflow:Value in checkpoint could not be found in the restored object: (root).optimizer._variables.14\n",
      "WARNING:tensorflow:Value in checkpoint could not be found in the restored object: (root).optimizer._variables.15\n",
      "WARNING:tensorflow:Value in checkpoint could not be found in the restored object: (root).optimizer._variables.16\n",
      "WARNING:tensorflow:Value in checkpoint could not be found in the restored object: (root).optimizer._variables.17\n",
      "WARNING:tensorflow:Value in checkpoint could not be found in the restored object: (root).optimizer._variables.18\n",
      "WARNING:tensorflow:Value in checkpoint could not be found in the restored object: (root).optimizer._variables.19\n",
      "WARNING:tensorflow:Value in checkpoint could not be found in the restored object: (root).optimizer._variables.20\n"
     ]
    },
    {
     "name": "stderr",
     "output_type": "stream",
     "text": [
      "C:\\Users\\VANKK\\AppData\\Local\\Temp\\ipykernel_4960\\1998982945.py:20: UserWarning: You are saving your model as an HDF5 file via `model.save()`. This file format is considered legacy. We recommend using instead the native Keras format, e.g. `model.save('my_model.keras')`.\n",
      "  save_model(best_model, f'{save_directory}/model_{iteration}.h5')\n"
     ]
    },
    {
     "name": "stdout",
     "output_type": "stream",
     "text": [
      "Current update_size is  256\n",
      "Best validation loss: 6.541569232940674\n",
      "Best validation loss: 53.486331939697266\n",
      "Best validation loss: 623.625\n",
      "Best validation loss: 6.545614719390869\n",
      "Best validation loss: 13.687503814697266\n",
      "Best validation loss: 11.40926456451416\n",
      "Best validation loss: 8.077923774719238\n",
      "Best validation loss: 66.1259994506836\n",
      "Best validation loss: 6.757272243499756\n",
      "Best validation loss: 7.179727077484131\n",
      "Best validation loss: 129.0155487060547\n",
      "Best validation loss: 27.568193435668945\n",
      "Best validation loss: 11.155974388122559\n",
      "Best validation loss: 11.713994979858398\n",
      "Best validation loss: 31.607040405273438\n",
      "Best validation loss: 7.8221564292907715\n",
      "Best validation loss: 7.49185037612915\n",
      "Best validation loss: 79.19715881347656\n",
      "Best validation loss: 10.235284805297852\n",
      "Best validation loss: 14.502788543701172\n",
      "Best validation loss: 16.042842864990234\n",
      "Best validation loss: 68.82740020751953\n",
      "Best validation loss: 116.03943634033203\n",
      "Best validation loss: 8.552630424499512\n",
      "Best validation loss: 12.673890113830566\n",
      "Best validation loss: 15.003314018249512\n",
      "Best validation loss: 13.510344505310059\n",
      "Best validation loss: 11.656895637512207\n",
      "Best validation loss: 7.142394542694092\n",
      "Best validation loss: 19.17099380493164\n",
      "Best validation loss: 20.089014053344727\n",
      "Best validation loss: 9.837883949279785\n",
      "Best validation loss: 6.650245666503906\n",
      "Best validation loss: 14.554381370544434\n",
      "Best validation loss: 12.065844535827637\n",
      "Best validation loss: 7.001428127288818\n",
      "Best validation loss: 13.549456596374512\n",
      "Best validation loss: 13.550277709960938\n",
      "Best validation loss: 13.078882217407227\n",
      "Best validation loss: 93.50428771972656\n",
      "Best validation loss: 6.7350382804870605\n",
      "Best validation loss: 11.479747772216797\n",
      "Best validation loss: 142.1543426513672\n",
      "Best validation loss: 20.032386779785156\n",
      "Best validation loss: 12.094866752624512\n",
      "Best validation loss: 18.08588981628418\n",
      "Best validation loss: 6.866548538208008\n",
      "Best validation loss: 6.181954860687256\n",
      "Best validation loss: 19.987674713134766\n",
      "Best validation loss: 12.554893493652344\n",
      "INFO:tensorflow:Oracle triggered exit\n",
      "WARNING:tensorflow:Detecting that an object or model or tf.train.Checkpoint is being deleted with unrestored values. See the following logs for the specific values in question. To silence these warnings, use `status.expect_partial()`. See https://www.tensorflow.org/api_docs/python/tf/train/Checkpoint#restorefor details about the status object returned by the restore function.\n",
      "WARNING:tensorflow:Value in checkpoint could not be found in the restored object: (root).optimizer._variables.1\n",
      "WARNING:tensorflow:Value in checkpoint could not be found in the restored object: (root).optimizer._variables.2\n",
      "WARNING:tensorflow:Value in checkpoint could not be found in the restored object: (root).optimizer._variables.3\n",
      "WARNING:tensorflow:Value in checkpoint could not be found in the restored object: (root).optimizer._variables.4\n",
      "WARNING:tensorflow:Value in checkpoint could not be found in the restored object: (root).optimizer._variables.5\n",
      "WARNING:tensorflow:Value in checkpoint could not be found in the restored object: (root).optimizer._variables.6\n",
      "WARNING:tensorflow:Value in checkpoint could not be found in the restored object: (root).optimizer._variables.7\n",
      "WARNING:tensorflow:Value in checkpoint could not be found in the restored object: (root).optimizer._variables.8\n",
      "WARNING:tensorflow:Value in checkpoint could not be found in the restored object: (root).optimizer._variables.9\n",
      "WARNING:tensorflow:Value in checkpoint could not be found in the restored object: (root).optimizer._variables.10\n",
      "WARNING:tensorflow:Value in checkpoint could not be found in the restored object: (root).optimizer._variables.11\n",
      "WARNING:tensorflow:Value in checkpoint could not be found in the restored object: (root).optimizer._variables.12\n",
      "WARNING:tensorflow:Value in checkpoint could not be found in the restored object: (root).optimizer._variables.13\n",
      "WARNING:tensorflow:Value in checkpoint could not be found in the restored object: (root).optimizer._variables.14\n",
      "WARNING:tensorflow:Value in checkpoint could not be found in the restored object: (root).optimizer._variables.15\n",
      "WARNING:tensorflow:Value in checkpoint could not be found in the restored object: (root).optimizer._variables.16\n",
      "WARNING:tensorflow:Value in checkpoint could not be found in the restored object: (root).optimizer._variables.17\n",
      "WARNING:tensorflow:Value in checkpoint could not be found in the restored object: (root).optimizer._variables.18\n",
      "WARNING:tensorflow:Value in checkpoint could not be found in the restored object: (root).optimizer._variables.19\n",
      "WARNING:tensorflow:Value in checkpoint could not be found in the restored object: (root).optimizer._variables.20\n"
     ]
    },
    {
     "name": "stderr",
     "output_type": "stream",
     "text": [
      "C:\\Users\\VANKK\\AppData\\Local\\Temp\\ipykernel_4960\\1998982945.py:20: UserWarning: You are saving your model as an HDF5 file via `model.save()`. This file format is considered legacy. We recommend using instead the native Keras format, e.g. `model.save('my_model.keras')`.\n",
      "  save_model(best_model, f'{save_directory}/model_{iteration}.h5')\n"
     ]
    },
    {
     "name": "stdout",
     "output_type": "stream",
     "text": [
      "Current update_size is  212\n",
      "Best validation loss: 26.098087310791016\n",
      "Best validation loss: 46.324764251708984\n",
      "Best validation loss: 15.144819259643555\n",
      "Best validation loss: 55.074317932128906\n",
      "Best validation loss: 219.6585235595703\n",
      "Best validation loss: 22.468189239501953\n",
      "Best validation loss: 22.963666915893555\n",
      "Best validation loss: 209.21087646484375\n",
      "Best validation loss: 106.33942413330078\n",
      "Best validation loss: 6.89703893661499\n",
      "Best validation loss: 67.42037200927734\n",
      "Best validation loss: 8.584004402160645\n",
      "Best validation loss: 21.303647994995117\n",
      "Best validation loss: 328.5869140625\n",
      "Best validation loss: 54.50959396362305\n",
      "Best validation loss: 9.857536315917969\n",
      "Best validation loss: 16.547422409057617\n",
      "Best validation loss: 10.186001777648926\n",
      "Best validation loss: 11.937867164611816\n",
      "Best validation loss: 78.734375\n"
     ]
    },
    {
     "name": "stderr",
     "output_type": "stream",
     "text": [
      "C:\\Users\\VANKK\\anaconda3\\Lib\\site-packages\\sklearn\\gaussian_process\\kernels.py:420: ConvergenceWarning: The optimal value found for dimension 0 of parameter length_scale is close to the specified lower bound 1e-05. Decreasing the bound and calling fit again may find a better value.\n",
      "  warnings.warn(\n"
     ]
    },
    {
     "name": "stdout",
     "output_type": "stream",
     "text": [
      "Best validation loss: 20.121009826660156\n"
     ]
    },
    {
     "name": "stderr",
     "output_type": "stream",
     "text": [
      "C:\\Users\\VANKK\\anaconda3\\Lib\\site-packages\\sklearn\\gaussian_process\\kernels.py:420: ConvergenceWarning: The optimal value found for dimension 0 of parameter length_scale is close to the specified lower bound 1e-05. Decreasing the bound and calling fit again may find a better value.\n",
      "  warnings.warn(\n"
     ]
    },
    {
     "name": "stdout",
     "output_type": "stream",
     "text": [
      "Best validation loss: 170.22972106933594\n"
     ]
    },
    {
     "name": "stderr",
     "output_type": "stream",
     "text": [
      "C:\\Users\\VANKK\\anaconda3\\Lib\\site-packages\\sklearn\\gaussian_process\\kernels.py:420: ConvergenceWarning: The optimal value found for dimension 0 of parameter length_scale is close to the specified lower bound 1e-05. Decreasing the bound and calling fit again may find a better value.\n",
      "  warnings.warn(\n"
     ]
    },
    {
     "name": "stdout",
     "output_type": "stream",
     "text": [
      "Best validation loss: 21.14159393310547\n"
     ]
    },
    {
     "name": "stderr",
     "output_type": "stream",
     "text": [
      "C:\\Users\\VANKK\\anaconda3\\Lib\\site-packages\\sklearn\\gaussian_process\\kernels.py:420: ConvergenceWarning: The optimal value found for dimension 0 of parameter length_scale is close to the specified lower bound 1e-05. Decreasing the bound and calling fit again may find a better value.\n",
      "  warnings.warn(\n"
     ]
    },
    {
     "name": "stdout",
     "output_type": "stream",
     "text": [
      "Best validation loss: 13.332609176635742\n"
     ]
    },
    {
     "name": "stderr",
     "output_type": "stream",
     "text": [
      "C:\\Users\\VANKK\\anaconda3\\Lib\\site-packages\\sklearn\\gaussian_process\\kernels.py:420: ConvergenceWarning: The optimal value found for dimension 0 of parameter length_scale is close to the specified lower bound 1e-05. Decreasing the bound and calling fit again may find a better value.\n",
      "  warnings.warn(\n"
     ]
    },
    {
     "name": "stdout",
     "output_type": "stream",
     "text": [
      "Best validation loss: 10.619277954101562\n"
     ]
    },
    {
     "name": "stderr",
     "output_type": "stream",
     "text": [
      "C:\\Users\\VANKK\\anaconda3\\Lib\\site-packages\\sklearn\\gaussian_process\\kernels.py:420: ConvergenceWarning: The optimal value found for dimension 0 of parameter length_scale is close to the specified lower bound 1e-05. Decreasing the bound and calling fit again may find a better value.\n",
      "  warnings.warn(\n"
     ]
    },
    {
     "name": "stdout",
     "output_type": "stream",
     "text": [
      "Best validation loss: 11.481163024902344\n"
     ]
    },
    {
     "name": "stderr",
     "output_type": "stream",
     "text": [
      "C:\\Users\\VANKK\\anaconda3\\Lib\\site-packages\\sklearn\\gaussian_process\\kernels.py:420: ConvergenceWarning: The optimal value found for dimension 0 of parameter length_scale is close to the specified lower bound 1e-05. Decreasing the bound and calling fit again may find a better value.\n",
      "  warnings.warn(\n"
     ]
    },
    {
     "name": "stdout",
     "output_type": "stream",
     "text": [
      "Best validation loss: 48.71352767944336\n"
     ]
    },
    {
     "name": "stderr",
     "output_type": "stream",
     "text": [
      "C:\\Users\\VANKK\\anaconda3\\Lib\\site-packages\\sklearn\\gaussian_process\\kernels.py:420: ConvergenceWarning: The optimal value found for dimension 0 of parameter length_scale is close to the specified lower bound 1e-05. Decreasing the bound and calling fit again may find a better value.\n",
      "  warnings.warn(\n"
     ]
    },
    {
     "name": "stdout",
     "output_type": "stream",
     "text": [
      "Best validation loss: 27.665843963623047\n"
     ]
    },
    {
     "name": "stderr",
     "output_type": "stream",
     "text": [
      "C:\\Users\\VANKK\\anaconda3\\Lib\\site-packages\\sklearn\\gaussian_process\\kernels.py:420: ConvergenceWarning: The optimal value found for dimension 0 of parameter length_scale is close to the specified lower bound 1e-05. Decreasing the bound and calling fit again may find a better value.\n",
      "  warnings.warn(\n"
     ]
    },
    {
     "name": "stdout",
     "output_type": "stream",
     "text": [
      "Best validation loss: 20.551862716674805\n"
     ]
    },
    {
     "name": "stderr",
     "output_type": "stream",
     "text": [
      "C:\\Users\\VANKK\\anaconda3\\Lib\\site-packages\\sklearn\\gaussian_process\\kernels.py:420: ConvergenceWarning: The optimal value found for dimension 0 of parameter length_scale is close to the specified lower bound 1e-05. Decreasing the bound and calling fit again may find a better value.\n",
      "  warnings.warn(\n"
     ]
    },
    {
     "name": "stdout",
     "output_type": "stream",
     "text": [
      "Best validation loss: 17.176729202270508\n"
     ]
    },
    {
     "name": "stderr",
     "output_type": "stream",
     "text": [
      "C:\\Users\\VANKK\\anaconda3\\Lib\\site-packages\\sklearn\\gaussian_process\\kernels.py:420: ConvergenceWarning: The optimal value found for dimension 0 of parameter length_scale is close to the specified lower bound 1e-05. Decreasing the bound and calling fit again may find a better value.\n",
      "  warnings.warn(\n"
     ]
    },
    {
     "name": "stdout",
     "output_type": "stream",
     "text": [
      "WARNING:tensorflow:Callback method `on_train_batch_end` is slow compared to the batch time (batch time: 0.0004s vs `on_train_batch_end` time: 0.0005s). Check your callbacks.\n",
      "Best validation loss: 52.74812316894531\n"
     ]
    },
    {
     "name": "stderr",
     "output_type": "stream",
     "text": [
      "C:\\Users\\VANKK\\anaconda3\\Lib\\site-packages\\sklearn\\gaussian_process\\kernels.py:420: ConvergenceWarning: The optimal value found for dimension 0 of parameter length_scale is close to the specified lower bound 1e-05. Decreasing the bound and calling fit again may find a better value.\n",
      "  warnings.warn(\n"
     ]
    },
    {
     "name": "stdout",
     "output_type": "stream",
     "text": [
      "Best validation loss: 126.1473388671875\n"
     ]
    },
    {
     "name": "stderr",
     "output_type": "stream",
     "text": [
      "C:\\Users\\VANKK\\anaconda3\\Lib\\site-packages\\sklearn\\gaussian_process\\kernels.py:420: ConvergenceWarning: The optimal value found for dimension 0 of parameter length_scale is close to the specified lower bound 1e-05. Decreasing the bound and calling fit again may find a better value.\n",
      "  warnings.warn(\n"
     ]
    },
    {
     "name": "stdout",
     "output_type": "stream",
     "text": [
      "Best validation loss: 235.39706420898438\n"
     ]
    },
    {
     "name": "stderr",
     "output_type": "stream",
     "text": [
      "C:\\Users\\VANKK\\anaconda3\\Lib\\site-packages\\sklearn\\gaussian_process\\kernels.py:420: ConvergenceWarning: The optimal value found for dimension 0 of parameter length_scale is close to the specified lower bound 1e-05. Decreasing the bound and calling fit again may find a better value.\n",
      "  warnings.warn(\n"
     ]
    },
    {
     "name": "stdout",
     "output_type": "stream",
     "text": [
      "Best validation loss: 52.32609176635742\n"
     ]
    },
    {
     "name": "stderr",
     "output_type": "stream",
     "text": [
      "C:\\Users\\VANKK\\anaconda3\\Lib\\site-packages\\sklearn\\gaussian_process\\kernels.py:420: ConvergenceWarning: The optimal value found for dimension 0 of parameter length_scale is close to the specified lower bound 1e-05. Decreasing the bound and calling fit again may find a better value.\n",
      "  warnings.warn(\n"
     ]
    },
    {
     "name": "stdout",
     "output_type": "stream",
     "text": [
      "Best validation loss: 14.66283893585205\n"
     ]
    },
    {
     "name": "stderr",
     "output_type": "stream",
     "text": [
      "C:\\Users\\VANKK\\anaconda3\\Lib\\site-packages\\sklearn\\gaussian_process\\kernels.py:420: ConvergenceWarning: The optimal value found for dimension 0 of parameter length_scale is close to the specified lower bound 1e-05. Decreasing the bound and calling fit again may find a better value.\n",
      "  warnings.warn(\n"
     ]
    },
    {
     "name": "stdout",
     "output_type": "stream",
     "text": [
      "Best validation loss: 92.03123474121094\n"
     ]
    },
    {
     "name": "stderr",
     "output_type": "stream",
     "text": [
      "C:\\Users\\VANKK\\anaconda3\\Lib\\site-packages\\sklearn\\gaussian_process\\kernels.py:420: ConvergenceWarning: The optimal value found for dimension 0 of parameter length_scale is close to the specified lower bound 1e-05. Decreasing the bound and calling fit again may find a better value.\n",
      "  warnings.warn(\n"
     ]
    },
    {
     "name": "stdout",
     "output_type": "stream",
     "text": [
      "Best validation loss: 11.152756690979004\n"
     ]
    },
    {
     "name": "stderr",
     "output_type": "stream",
     "text": [
      "C:\\Users\\VANKK\\anaconda3\\Lib\\site-packages\\sklearn\\gaussian_process\\kernels.py:420: ConvergenceWarning: The optimal value found for dimension 0 of parameter length_scale is close to the specified lower bound 1e-05. Decreasing the bound and calling fit again may find a better value.\n",
      "  warnings.warn(\n"
     ]
    },
    {
     "name": "stdout",
     "output_type": "stream",
     "text": [
      "Best validation loss: 41.86344909667969\n"
     ]
    },
    {
     "name": "stderr",
     "output_type": "stream",
     "text": [
      "C:\\Users\\VANKK\\anaconda3\\Lib\\site-packages\\sklearn\\gaussian_process\\kernels.py:420: ConvergenceWarning: The optimal value found for dimension 0 of parameter length_scale is close to the specified lower bound 1e-05. Decreasing the bound and calling fit again may find a better value.\n",
      "  warnings.warn(\n"
     ]
    },
    {
     "name": "stdout",
     "output_type": "stream",
     "text": [
      "Best validation loss: 50.59984588623047\n"
     ]
    },
    {
     "name": "stderr",
     "output_type": "stream",
     "text": [
      "C:\\Users\\VANKK\\anaconda3\\Lib\\site-packages\\sklearn\\gaussian_process\\kernels.py:420: ConvergenceWarning: The optimal value found for dimension 0 of parameter length_scale is close to the specified lower bound 1e-05. Decreasing the bound and calling fit again may find a better value.\n",
      "  warnings.warn(\n"
     ]
    },
    {
     "name": "stdout",
     "output_type": "stream",
     "text": [
      "Best validation loss: 15.82374382019043\n"
     ]
    },
    {
     "name": "stderr",
     "output_type": "stream",
     "text": [
      "C:\\Users\\VANKK\\anaconda3\\Lib\\site-packages\\sklearn\\gaussian_process\\kernels.py:420: ConvergenceWarning: The optimal value found for dimension 0 of parameter length_scale is close to the specified lower bound 1e-05. Decreasing the bound and calling fit again may find a better value.\n",
      "  warnings.warn(\n"
     ]
    },
    {
     "name": "stdout",
     "output_type": "stream",
     "text": [
      "Best validation loss: 13.291537284851074\n"
     ]
    },
    {
     "name": "stderr",
     "output_type": "stream",
     "text": [
      "C:\\Users\\VANKK\\anaconda3\\Lib\\site-packages\\sklearn\\gaussian_process\\kernels.py:420: ConvergenceWarning: The optimal value found for dimension 0 of parameter length_scale is close to the specified lower bound 1e-05. Decreasing the bound and calling fit again may find a better value.\n",
      "  warnings.warn(\n"
     ]
    },
    {
     "name": "stdout",
     "output_type": "stream",
     "text": [
      "Best validation loss: 18.00145149230957\n"
     ]
    },
    {
     "name": "stderr",
     "output_type": "stream",
     "text": [
      "C:\\Users\\VANKK\\anaconda3\\Lib\\site-packages\\sklearn\\gaussian_process\\kernels.py:420: ConvergenceWarning: The optimal value found for dimension 0 of parameter length_scale is close to the specified lower bound 1e-05. Decreasing the bound and calling fit again may find a better value.\n",
      "  warnings.warn(\n"
     ]
    },
    {
     "name": "stdout",
     "output_type": "stream",
     "text": [
      "Best validation loss: 30.784326553344727\n"
     ]
    },
    {
     "name": "stderr",
     "output_type": "stream",
     "text": [
      "C:\\Users\\VANKK\\anaconda3\\Lib\\site-packages\\sklearn\\gaussian_process\\kernels.py:420: ConvergenceWarning: The optimal value found for dimension 0 of parameter length_scale is close to the specified lower bound 1e-05. Decreasing the bound and calling fit again may find a better value.\n",
      "  warnings.warn(\n"
     ]
    },
    {
     "name": "stdout",
     "output_type": "stream",
     "text": [
      "Best validation loss: 21.124643325805664\n"
     ]
    },
    {
     "name": "stderr",
     "output_type": "stream",
     "text": [
      "C:\\Users\\VANKK\\anaconda3\\Lib\\site-packages\\sklearn\\gaussian_process\\kernels.py:420: ConvergenceWarning: The optimal value found for dimension 0 of parameter length_scale is close to the specified lower bound 1e-05. Decreasing the bound and calling fit again may find a better value.\n",
      "  warnings.warn(\n"
     ]
    },
    {
     "name": "stdout",
     "output_type": "stream",
     "text": [
      "Best validation loss: 7.64549446105957\n"
     ]
    },
    {
     "name": "stderr",
     "output_type": "stream",
     "text": [
      "C:\\Users\\VANKK\\anaconda3\\Lib\\site-packages\\sklearn\\gaussian_process\\kernels.py:420: ConvergenceWarning: The optimal value found for dimension 0 of parameter length_scale is close to the specified lower bound 1e-05. Decreasing the bound and calling fit again may find a better value.\n",
      "  warnings.warn(\n"
     ]
    },
    {
     "name": "stdout",
     "output_type": "stream",
     "text": [
      "Best validation loss: 14.247516632080078\n"
     ]
    },
    {
     "name": "stderr",
     "output_type": "stream",
     "text": [
      "C:\\Users\\VANKK\\anaconda3\\Lib\\site-packages\\sklearn\\gaussian_process\\kernels.py:420: ConvergenceWarning: The optimal value found for dimension 0 of parameter length_scale is close to the specified lower bound 1e-05. Decreasing the bound and calling fit again may find a better value.\n",
      "  warnings.warn(\n"
     ]
    },
    {
     "name": "stdout",
     "output_type": "stream",
     "text": [
      "Best validation loss: 21.370006561279297\n"
     ]
    },
    {
     "name": "stderr",
     "output_type": "stream",
     "text": [
      "C:\\Users\\VANKK\\anaconda3\\Lib\\site-packages\\sklearn\\gaussian_process\\kernels.py:420: ConvergenceWarning: The optimal value found for dimension 0 of parameter length_scale is close to the specified lower bound 1e-05. Decreasing the bound and calling fit again may find a better value.\n",
      "  warnings.warn(\n"
     ]
    },
    {
     "name": "stdout",
     "output_type": "stream",
     "text": [
      "Best validation loss: 53.73814010620117\n"
     ]
    },
    {
     "name": "stderr",
     "output_type": "stream",
     "text": [
      "C:\\Users\\VANKK\\anaconda3\\Lib\\site-packages\\sklearn\\gaussian_process\\kernels.py:420: ConvergenceWarning: The optimal value found for dimension 0 of parameter length_scale is close to the specified lower bound 1e-05. Decreasing the bound and calling fit again may find a better value.\n",
      "  warnings.warn(\n"
     ]
    },
    {
     "name": "stdout",
     "output_type": "stream",
     "text": [
      "Best validation loss: 10.125955581665039\n"
     ]
    },
    {
     "name": "stderr",
     "output_type": "stream",
     "text": [
      "C:\\Users\\VANKK\\anaconda3\\Lib\\site-packages\\sklearn\\gaussian_process\\kernels.py:420: ConvergenceWarning: The optimal value found for dimension 0 of parameter length_scale is close to the specified lower bound 1e-05. Decreasing the bound and calling fit again may find a better value.\n",
      "  warnings.warn(\n"
     ]
    },
    {
     "name": "stdout",
     "output_type": "stream",
     "text": [
      "Best validation loss: 15.607453346252441\n",
      "INFO:tensorflow:Oracle triggered exit\n",
      "WARNING:tensorflow:Detecting that an object or model or tf.train.Checkpoint is being deleted with unrestored values. See the following logs for the specific values in question. To silence these warnings, use `status.expect_partial()`. See https://www.tensorflow.org/api_docs/python/tf/train/Checkpoint#restorefor details about the status object returned by the restore function.\n",
      "WARNING:tensorflow:Value in checkpoint could not be found in the restored object: (root).optimizer._variables.1\n",
      "WARNING:tensorflow:Value in checkpoint could not be found in the restored object: (root).optimizer._variables.2\n",
      "WARNING:tensorflow:Value in checkpoint could not be found in the restored object: (root).optimizer._variables.3\n",
      "WARNING:tensorflow:Value in checkpoint could not be found in the restored object: (root).optimizer._variables.4\n",
      "WARNING:tensorflow:Value in checkpoint could not be found in the restored object: (root).optimizer._variables.5\n",
      "WARNING:tensorflow:Value in checkpoint could not be found in the restored object: (root).optimizer._variables.6\n",
      "WARNING:tensorflow:Value in checkpoint could not be found in the restored object: (root).optimizer._variables.7\n",
      "WARNING:tensorflow:Value in checkpoint could not be found in the restored object: (root).optimizer._variables.8\n",
      "WARNING:tensorflow:Value in checkpoint could not be found in the restored object: (root).optimizer._variables.9\n",
      "WARNING:tensorflow:Value in checkpoint could not be found in the restored object: (root).optimizer._variables.10\n",
      "WARNING:tensorflow:Value in checkpoint could not be found in the restored object: (root).optimizer._variables.11\n",
      "WARNING:tensorflow:Value in checkpoint could not be found in the restored object: (root).optimizer._variables.12\n",
      "WARNING:tensorflow:Value in checkpoint could not be found in the restored object: (root).optimizer._variables.13\n",
      "WARNING:tensorflow:Value in checkpoint could not be found in the restored object: (root).optimizer._variables.14\n",
      "WARNING:tensorflow:Value in checkpoint could not be found in the restored object: (root).optimizer._variables.15\n",
      "WARNING:tensorflow:Value in checkpoint could not be found in the restored object: (root).optimizer._variables.16\n",
      "WARNING:tensorflow:Value in checkpoint could not be found in the restored object: (root).optimizer._variables.17\n",
      "WARNING:tensorflow:Value in checkpoint could not be found in the restored object: (root).optimizer._variables.18\n",
      "WARNING:tensorflow:Value in checkpoint could not be found in the restored object: (root).optimizer._variables.19\n",
      "WARNING:tensorflow:Value in checkpoint could not be found in the restored object: (root).optimizer._variables.20\n"
     ]
    },
    {
     "name": "stderr",
     "output_type": "stream",
     "text": [
      "C:\\Users\\VANKK\\AppData\\Local\\Temp\\ipykernel_4960\\1998982945.py:20: UserWarning: You are saving your model as an HDF5 file via `model.save()`. This file format is considered legacy. We recommend using instead the native Keras format, e.g. `model.save('my_model.keras')`.\n",
      "  save_model(best_model, f'{save_directory}/model_{iteration}.h5')\n"
     ]
    },
    {
     "name": "stdout",
     "output_type": "stream",
     "text": [
      "Current update_size is  168\n",
      "Best validation loss: 12.641617774963379\n",
      "Best validation loss: 69.48957061767578\n",
      "Best validation loss: 8.844889640808105\n",
      "Best validation loss: 18.93250846862793\n",
      "Best validation loss: 119.94342041015625\n",
      "Best validation loss: 19.797842025756836\n",
      "Best validation loss: 188.23544311523438\n",
      "Best validation loss: 10.226682662963867\n",
      "Best validation loss: 9.880929946899414\n",
      "Best validation loss: 14.048698425292969\n",
      "Best validation loss: 11.777469635009766\n",
      "Best validation loss: 171.9840850830078\n",
      "Best validation loss: 8.699006080627441\n",
      "Best validation loss: 6.8752055168151855\n",
      "Best validation loss: 8.906556129455566\n",
      "Best validation loss: 35.138954162597656\n",
      "Best validation loss: 88.68692016601562\n",
      "Best validation loss: 93.65127563476562\n",
      "Best validation loss: 18.83784294128418\n",
      "Best validation loss: 19.953283309936523\n",
      "Best validation loss: 10.073331832885742\n",
      "Best validation loss: 7.12123441696167\n",
      "Best validation loss: 8.179718017578125\n",
      "Best validation loss: 50.178062438964844\n",
      "Best validation loss: 15.394664764404297\n",
      "Best validation loss: 8.971534729003906\n",
      "Best validation loss: 12.927349090576172\n",
      "Best validation loss: 107.85759735107422\n",
      "Best validation loss: 12.725316047668457\n",
      "Best validation loss: 14.505208015441895\n",
      "Best validation loss: 17.527362823486328\n",
      "Best validation loss: 13.607044219970703\n",
      "Best validation loss: 7.409897327423096\n",
      "Best validation loss: 14.157719612121582\n",
      "Best validation loss: 50.67729949951172\n",
      "Best validation loss: 15.534778594970703\n",
      "Best validation loss: 36.61354446411133\n",
      "Best validation loss: 25.853561401367188\n",
      "Best validation loss: 66.31330108642578\n",
      "Best validation loss: 20.076274871826172\n",
      "Best validation loss: 9.254587173461914\n",
      "Best validation loss: 8.81977367401123\n",
      "Best validation loss: 8.297794342041016\n",
      "Best validation loss: 6.833837509155273\n",
      "Best validation loss: 6.59816312789917\n",
      "Best validation loss: 8.087231636047363\n",
      "Best validation loss: 15.700448989868164\n",
      "Best validation loss: 12.55872631072998\n",
      "Best validation loss: 41.29281997680664\n",
      "Best validation loss: 6.893696308135986\n",
      "INFO:tensorflow:Oracle triggered exit\n",
      "WARNING:tensorflow:Detecting that an object or model or tf.train.Checkpoint is being deleted with unrestored values. See the following logs for the specific values in question. To silence these warnings, use `status.expect_partial()`. See https://www.tensorflow.org/api_docs/python/tf/train/Checkpoint#restorefor details about the status object returned by the restore function.\n",
      "WARNING:tensorflow:Value in checkpoint could not be found in the restored object: (root).optimizer._variables.1\n",
      "WARNING:tensorflow:Value in checkpoint could not be found in the restored object: (root).optimizer._variables.2\n",
      "WARNING:tensorflow:Value in checkpoint could not be found in the restored object: (root).optimizer._variables.3\n",
      "WARNING:tensorflow:Value in checkpoint could not be found in the restored object: (root).optimizer._variables.4\n",
      "WARNING:tensorflow:Value in checkpoint could not be found in the restored object: (root).optimizer._variables.5\n",
      "WARNING:tensorflow:Value in checkpoint could not be found in the restored object: (root).optimizer._variables.6\n",
      "WARNING:tensorflow:Value in checkpoint could not be found in the restored object: (root).optimizer._variables.7\n",
      "WARNING:tensorflow:Value in checkpoint could not be found in the restored object: (root).optimizer._variables.8\n",
      "WARNING:tensorflow:Value in checkpoint could not be found in the restored object: (root).optimizer._variables.9\n",
      "WARNING:tensorflow:Value in checkpoint could not be found in the restored object: (root).optimizer._variables.10\n",
      "WARNING:tensorflow:Value in checkpoint could not be found in the restored object: (root).optimizer._variables.11\n",
      "WARNING:tensorflow:Value in checkpoint could not be found in the restored object: (root).optimizer._variables.12\n",
      "WARNING:tensorflow:Value in checkpoint could not be found in the restored object: (root).optimizer._variables.13\n",
      "WARNING:tensorflow:Value in checkpoint could not be found in the restored object: (root).optimizer._variables.14\n",
      "WARNING:tensorflow:Value in checkpoint could not be found in the restored object: (root).optimizer._variables.15\n",
      "WARNING:tensorflow:Value in checkpoint could not be found in the restored object: (root).optimizer._variables.16\n",
      "WARNING:tensorflow:Value in checkpoint could not be found in the restored object: (root).optimizer._variables.17\n",
      "WARNING:tensorflow:Value in checkpoint could not be found in the restored object: (root).optimizer._variables.18\n",
      "WARNING:tensorflow:Value in checkpoint could not be found in the restored object: (root).optimizer._variables.19\n",
      "WARNING:tensorflow:Value in checkpoint could not be found in the restored object: (root).optimizer._variables.20\n"
     ]
    },
    {
     "name": "stderr",
     "output_type": "stream",
     "text": [
      "C:\\Users\\VANKK\\AppData\\Local\\Temp\\ipykernel_4960\\1998982945.py:20: UserWarning: You are saving your model as an HDF5 file via `model.save()`. This file format is considered legacy. We recommend using instead the native Keras format, e.g. `model.save('my_model.keras')`.\n",
      "  save_model(best_model, f'{save_directory}/model_{iteration}.h5')\n"
     ]
    },
    {
     "name": "stdout",
     "output_type": "stream",
     "text": [
      "Current update_size is  124\n",
      "Best validation loss: 11.244423866271973\n",
      "Best validation loss: 84.54618835449219\n",
      "Best validation loss: 44.2772331237793\n",
      "Best validation loss: 18.34996223449707\n",
      "Best validation loss: 15.957308769226074\n",
      "WARNING:tensorflow:Callback method `on_train_batch_end` is slow compared to the batch time (batch time: 0.0000s vs `on_train_batch_end` time: 0.0002s). Check your callbacks.\n",
      "Best validation loss: 15.149781227111816\n",
      "Best validation loss: 13.750012397766113\n",
      "Best validation loss: 11.489431381225586\n",
      "Best validation loss: 9.576677322387695\n",
      "Best validation loss: 520.3269653320312\n",
      "Best validation loss: 6.274572372436523\n",
      "Best validation loss: 22.39958381652832\n",
      "Best validation loss: 70.078857421875\n",
      "Best validation loss: 10.642234802246094\n",
      "Best validation loss: 13.575582504272461\n",
      "Best validation loss: 17.400182723999023\n",
      "Best validation loss: 26.890308380126953\n",
      "Best validation loss: 8.632720947265625\n",
      "Best validation loss: 28.707857131958008\n",
      "Best validation loss: 12.047192573547363\n",
      "Best validation loss: 30.83791732788086\n",
      "Best validation loss: 6.60959529876709\n",
      "Best validation loss: 35.86695098876953\n",
      "Best validation loss: 7.788852691650391\n",
      "Best validation loss: 6.525491714477539\n",
      "Best validation loss: 6.869154930114746\n",
      "Best validation loss: 7.432602882385254\n",
      "Best validation loss: 12.220911979675293\n",
      "Best validation loss: 44.76921844482422\n",
      "Best validation loss: 7.51115608215332\n",
      "Best validation loss: 15.662846565246582\n",
      "Best validation loss: 46.067501068115234\n",
      "Best validation loss: 22.807174682617188\n",
      "Best validation loss: 9.628061294555664\n",
      "Best validation loss: 9.163371086120605\n",
      "Best validation loss: 10.706986427307129\n",
      "Best validation loss: 11.209299087524414\n",
      "Best validation loss: 83.87493896484375\n",
      "Best validation loss: 9.414847373962402\n",
      "Best validation loss: 8.36008071899414\n",
      "Best validation loss: 15.679657936096191\n",
      "Best validation loss: 8.745281219482422\n",
      "Best validation loss: 8.530985832214355\n",
      "Best validation loss: 86.7577896118164\n",
      "Best validation loss: 10.43695068359375\n",
      "Best validation loss: 11.92909049987793\n",
      "Best validation loss: 12.729023933410645\n",
      "Best validation loss: 13.561253547668457\n",
      "Best validation loss: 9.06041431427002\n",
      "Best validation loss: 6.450516223907471\n",
      "INFO:tensorflow:Oracle triggered exit\n",
      "WARNING:tensorflow:Detecting that an object or model or tf.train.Checkpoint is being deleted with unrestored values. See the following logs for the specific values in question. To silence these warnings, use `status.expect_partial()`. See https://www.tensorflow.org/api_docs/python/tf/train/Checkpoint#restorefor details about the status object returned by the restore function.\n",
      "WARNING:tensorflow:Value in checkpoint could not be found in the restored object: (root).optimizer._variables.1\n",
      "WARNING:tensorflow:Value in checkpoint could not be found in the restored object: (root).optimizer._variables.2\n",
      "WARNING:tensorflow:Value in checkpoint could not be found in the restored object: (root).optimizer._variables.3\n",
      "WARNING:tensorflow:Value in checkpoint could not be found in the restored object: (root).optimizer._variables.4\n",
      "WARNING:tensorflow:Value in checkpoint could not be found in the restored object: (root).optimizer._variables.5\n",
      "WARNING:tensorflow:Value in checkpoint could not be found in the restored object: (root).optimizer._variables.6\n",
      "WARNING:tensorflow:Value in checkpoint could not be found in the restored object: (root).optimizer._variables.7\n",
      "WARNING:tensorflow:Value in checkpoint could not be found in the restored object: (root).optimizer._variables.8\n",
      "WARNING:tensorflow:Value in checkpoint could not be found in the restored object: (root).optimizer._variables.9\n",
      "WARNING:tensorflow:Value in checkpoint could not be found in the restored object: (root).optimizer._variables.10\n",
      "WARNING:tensorflow:Value in checkpoint could not be found in the restored object: (root).optimizer._variables.11\n",
      "WARNING:tensorflow:Value in checkpoint could not be found in the restored object: (root).optimizer._variables.12\n",
      "WARNING:tensorflow:Value in checkpoint could not be found in the restored object: (root).optimizer._variables.13\n",
      "WARNING:tensorflow:Value in checkpoint could not be found in the restored object: (root).optimizer._variables.14\n",
      "WARNING:tensorflow:Value in checkpoint could not be found in the restored object: (root).optimizer._variables.15\n",
      "WARNING:tensorflow:Value in checkpoint could not be found in the restored object: (root).optimizer._variables.16\n",
      "WARNING:tensorflow:Value in checkpoint could not be found in the restored object: (root).optimizer._variables.17\n",
      "WARNING:tensorflow:Value in checkpoint could not be found in the restored object: (root).optimizer._variables.18\n",
      "WARNING:tensorflow:Value in checkpoint could not be found in the restored object: (root).optimizer._variables.19\n",
      "WARNING:tensorflow:Value in checkpoint could not be found in the restored object: (root).optimizer._variables.20\n"
     ]
    },
    {
     "name": "stderr",
     "output_type": "stream",
     "text": [
      "C:\\Users\\VANKK\\AppData\\Local\\Temp\\ipykernel_4960\\1998982945.py:20: UserWarning: You are saving your model as an HDF5 file via `model.save()`. This file format is considered legacy. We recommend using instead the native Keras format, e.g. `model.save('my_model.keras')`.\n",
      "  save_model(best_model, f'{save_directory}/model_{iteration}.h5')\n"
     ]
    },
    {
     "name": "stdout",
     "output_type": "stream",
     "text": [
      "Current update_size is  80\n",
      "Best validation loss: 9.442554473876953\n",
      "Best validation loss: 172.00340270996094\n",
      "Best validation loss: 51.61000061035156\n",
      "Best validation loss: 7.692534923553467\n",
      "Best validation loss: 60.924835205078125\n",
      "Best validation loss: 11.37279987335205\n",
      "Best validation loss: 9.700550079345703\n",
      "Best validation loss: 50.63015365600586\n",
      "Best validation loss: 6.319432258605957\n",
      "Best validation loss: 83.66460418701172\n",
      "Best validation loss: 381.39935302734375\n",
      "Best validation loss: 136.44525146484375\n",
      "Best validation loss: 12.746805191040039\n",
      "Best validation loss: 16.470582962036133\n",
      "Best validation loss: 12.836201667785645\n",
      "Best validation loss: 57.508140563964844\n",
      "Best validation loss: 14.714736938476562\n",
      "Best validation loss: 8.081864356994629\n",
      "Best validation loss: 13.98234748840332\n",
      "Best validation loss: 10.221941947937012\n",
      "Best validation loss: 9.757129669189453\n",
      "Best validation loss: 14.037941932678223\n",
      "Best validation loss: 7.437300205230713\n",
      "Best validation loss: 66.03223419189453\n",
      "Best validation loss: 6.8212080001831055\n",
      "Best validation loss: 16.946542739868164\n",
      "Best validation loss: 13.924565315246582\n",
      "Best validation loss: 14.243025779724121\n",
      "Best validation loss: 7.866848468780518\n",
      "Best validation loss: 22.877899169921875\n",
      "Best validation loss: 14.447420120239258\n",
      "Best validation loss: 16.0792179107666\n",
      "Best validation loss: 7.156223773956299\n",
      "Best validation loss: 7.177648067474365\n",
      "Best validation loss: 11.314775466918945\n",
      "Best validation loss: 15.049009323120117\n",
      "Best validation loss: 58.92441177368164\n",
      "Best validation loss: 60.974246978759766\n",
      "Best validation loss: 6.4712724685668945\n",
      "Best validation loss: 23.13564682006836\n",
      "Best validation loss: 14.437585830688477\n",
      "Best validation loss: 7.220958709716797\n",
      "Best validation loss: 20.654207229614258\n",
      "Best validation loss: 10.44573974609375\n",
      "Best validation loss: 13.131038665771484\n",
      "Best validation loss: 17.493518829345703\n",
      "Best validation loss: 6.225125312805176\n",
      "Best validation loss: 8.3693265914917\n",
      "Best validation loss: 7.662798881530762\n",
      "Best validation loss: 7.337105751037598\n",
      "INFO:tensorflow:Oracle triggered exit\n",
      "WARNING:tensorflow:Detecting that an object or model or tf.train.Checkpoint is being deleted with unrestored values. See the following logs for the specific values in question. To silence these warnings, use `status.expect_partial()`. See https://www.tensorflow.org/api_docs/python/tf/train/Checkpoint#restorefor details about the status object returned by the restore function.\n",
      "WARNING:tensorflow:Value in checkpoint could not be found in the restored object: (root).optimizer._variables.1\n",
      "WARNING:tensorflow:Value in checkpoint could not be found in the restored object: (root).optimizer._variables.2\n",
      "WARNING:tensorflow:Value in checkpoint could not be found in the restored object: (root).optimizer._variables.3\n",
      "WARNING:tensorflow:Value in checkpoint could not be found in the restored object: (root).optimizer._variables.4\n",
      "WARNING:tensorflow:Value in checkpoint could not be found in the restored object: (root).optimizer._variables.5\n",
      "WARNING:tensorflow:Value in checkpoint could not be found in the restored object: (root).optimizer._variables.6\n",
      "WARNING:tensorflow:Value in checkpoint could not be found in the restored object: (root).optimizer._variables.7\n",
      "WARNING:tensorflow:Value in checkpoint could not be found in the restored object: (root).optimizer._variables.8\n",
      "WARNING:tensorflow:Value in checkpoint could not be found in the restored object: (root).optimizer._variables.9\n",
      "WARNING:tensorflow:Value in checkpoint could not be found in the restored object: (root).optimizer._variables.10\n",
      "WARNING:tensorflow:Value in checkpoint could not be found in the restored object: (root).optimizer._variables.11\n",
      "WARNING:tensorflow:Value in checkpoint could not be found in the restored object: (root).optimizer._variables.12\n",
      "WARNING:tensorflow:Value in checkpoint could not be found in the restored object: (root).optimizer._variables.13\n",
      "WARNING:tensorflow:Value in checkpoint could not be found in the restored object: (root).optimizer._variables.14\n",
      "WARNING:tensorflow:Value in checkpoint could not be found in the restored object: (root).optimizer._variables.15\n",
      "WARNING:tensorflow:Value in checkpoint could not be found in the restored object: (root).optimizer._variables.16\n",
      "WARNING:tensorflow:Value in checkpoint could not be found in the restored object: (root).optimizer._variables.17\n",
      "WARNING:tensorflow:Value in checkpoint could not be found in the restored object: (root).optimizer._variables.18\n",
      "WARNING:tensorflow:Value in checkpoint could not be found in the restored object: (root).optimizer._variables.19\n",
      "WARNING:tensorflow:Value in checkpoint could not be found in the restored object: (root).optimizer._variables.20\n"
     ]
    },
    {
     "name": "stderr",
     "output_type": "stream",
     "text": [
      "C:\\Users\\VANKK\\AppData\\Local\\Temp\\ipykernel_4960\\1998982945.py:20: UserWarning: You are saving your model as an HDF5 file via `model.save()`. This file format is considered legacy. We recommend using instead the native Keras format, e.g. `model.save('my_model.keras')`.\n",
      "  save_model(best_model, f'{save_directory}/model_{iteration}.h5')\n"
     ]
    },
    {
     "name": "stdout",
     "output_type": "stream",
     "text": [
      "Current update_size is  36\n",
      "Best validation loss: 44.99627685546875\n",
      "Best validation loss: 31.978818893432617\n",
      "Best validation loss: 12.444380760192871\n",
      "Best validation loss: 274.3046875\n",
      "Best validation loss: 20.84929084777832\n",
      "Best validation loss: 14.492507934570312\n",
      "Best validation loss: 21.555784225463867\n",
      "Best validation loss: 98.299560546875\n",
      "Best validation loss: 187.20648193359375\n",
      "Best validation loss: 19.751710891723633\n",
      "Best validation loss: 16.865413665771484\n",
      "Best validation loss: 154.1402587890625\n",
      "Best validation loss: 13.633076667785645\n",
      "Best validation loss: 8.444098472595215\n",
      "Best validation loss: 6.314037799835205\n",
      "Best validation loss: 11.51443099975586\n",
      "Best validation loss: 49.093807220458984\n",
      "Best validation loss: 21.3565673828125\n",
      "Best validation loss: 20.8831729888916\n",
      "Best validation loss: 63.35041427612305\n"
     ]
    },
    {
     "name": "stderr",
     "output_type": "stream",
     "text": [
      "C:\\Users\\VANKK\\anaconda3\\Lib\\site-packages\\sklearn\\gaussian_process\\kernels.py:420: ConvergenceWarning: The optimal value found for dimension 0 of parameter length_scale is close to the specified lower bound 1e-05. Decreasing the bound and calling fit again may find a better value.\n",
      "  warnings.warn(\n"
     ]
    },
    {
     "name": "stdout",
     "output_type": "stream",
     "text": [
      "Best validation loss: 5.920797824859619\n"
     ]
    },
    {
     "name": "stderr",
     "output_type": "stream",
     "text": [
      "C:\\Users\\VANKK\\anaconda3\\Lib\\site-packages\\sklearn\\gaussian_process\\kernels.py:420: ConvergenceWarning: The optimal value found for dimension 0 of parameter length_scale is close to the specified lower bound 1e-05. Decreasing the bound and calling fit again may find a better value.\n",
      "  warnings.warn(\n"
     ]
    },
    {
     "name": "stdout",
     "output_type": "stream",
     "text": [
      "Best validation loss: 17.297700881958008\n"
     ]
    },
    {
     "name": "stderr",
     "output_type": "stream",
     "text": [
      "C:\\Users\\VANKK\\anaconda3\\Lib\\site-packages\\sklearn\\gaussian_process\\kernels.py:420: ConvergenceWarning: The optimal value found for dimension 0 of parameter length_scale is close to the specified lower bound 1e-05. Decreasing the bound and calling fit again may find a better value.\n",
      "  warnings.warn(\n"
     ]
    },
    {
     "name": "stdout",
     "output_type": "stream",
     "text": [
      "Best validation loss: 51.27291488647461\n"
     ]
    },
    {
     "name": "stderr",
     "output_type": "stream",
     "text": [
      "C:\\Users\\VANKK\\anaconda3\\Lib\\site-packages\\sklearn\\gaussian_process\\kernels.py:420: ConvergenceWarning: The optimal value found for dimension 0 of parameter length_scale is close to the specified lower bound 1e-05. Decreasing the bound and calling fit again may find a better value.\n",
      "  warnings.warn(\n"
     ]
    },
    {
     "name": "stdout",
     "output_type": "stream",
     "text": [
      "Best validation loss: 49.65864562988281\n"
     ]
    },
    {
     "name": "stderr",
     "output_type": "stream",
     "text": [
      "C:\\Users\\VANKK\\anaconda3\\Lib\\site-packages\\sklearn\\gaussian_process\\kernels.py:420: ConvergenceWarning: The optimal value found for dimension 0 of parameter length_scale is close to the specified lower bound 1e-05. Decreasing the bound and calling fit again may find a better value.\n",
      "  warnings.warn(\n"
     ]
    },
    {
     "name": "stdout",
     "output_type": "stream",
     "text": [
      "Best validation loss: 8.048258781433105\n"
     ]
    },
    {
     "name": "stderr",
     "output_type": "stream",
     "text": [
      "C:\\Users\\VANKK\\anaconda3\\Lib\\site-packages\\sklearn\\gaussian_process\\kernels.py:420: ConvergenceWarning: The optimal value found for dimension 0 of parameter length_scale is close to the specified lower bound 1e-05. Decreasing the bound and calling fit again may find a better value.\n",
      "  warnings.warn(\n"
     ]
    },
    {
     "name": "stdout",
     "output_type": "stream",
     "text": [
      "Best validation loss: 15.120713233947754\n"
     ]
    },
    {
     "name": "stderr",
     "output_type": "stream",
     "text": [
      "C:\\Users\\VANKK\\anaconda3\\Lib\\site-packages\\sklearn\\gaussian_process\\kernels.py:420: ConvergenceWarning: The optimal value found for dimension 0 of parameter length_scale is close to the specified lower bound 1e-05. Decreasing the bound and calling fit again may find a better value.\n",
      "  warnings.warn(\n"
     ]
    },
    {
     "name": "stdout",
     "output_type": "stream",
     "text": [
      "Best validation loss: 36.17388916015625\n"
     ]
    },
    {
     "name": "stderr",
     "output_type": "stream",
     "text": [
      "C:\\Users\\VANKK\\anaconda3\\Lib\\site-packages\\sklearn\\gaussian_process\\kernels.py:420: ConvergenceWarning: The optimal value found for dimension 0 of parameter length_scale is close to the specified lower bound 1e-05. Decreasing the bound and calling fit again may find a better value.\n",
      "  warnings.warn(\n"
     ]
    },
    {
     "name": "stdout",
     "output_type": "stream",
     "text": [
      "Best validation loss: 6.926183700561523\n"
     ]
    },
    {
     "name": "stderr",
     "output_type": "stream",
     "text": [
      "C:\\Users\\VANKK\\anaconda3\\Lib\\site-packages\\sklearn\\gaussian_process\\kernels.py:420: ConvergenceWarning: The optimal value found for dimension 0 of parameter length_scale is close to the specified lower bound 1e-05. Decreasing the bound and calling fit again may find a better value.\n",
      "  warnings.warn(\n"
     ]
    },
    {
     "name": "stdout",
     "output_type": "stream",
     "text": [
      "Best validation loss: 27.493061065673828\n"
     ]
    },
    {
     "name": "stderr",
     "output_type": "stream",
     "text": [
      "C:\\Users\\VANKK\\anaconda3\\Lib\\site-packages\\sklearn\\gaussian_process\\kernels.py:420: ConvergenceWarning: The optimal value found for dimension 0 of parameter length_scale is close to the specified lower bound 1e-05. Decreasing the bound and calling fit again may find a better value.\n",
      "  warnings.warn(\n"
     ]
    },
    {
     "name": "stdout",
     "output_type": "stream",
     "text": [
      "Best validation loss: 8.799553871154785\n"
     ]
    },
    {
     "name": "stderr",
     "output_type": "stream",
     "text": [
      "C:\\Users\\VANKK\\anaconda3\\Lib\\site-packages\\sklearn\\gaussian_process\\kernels.py:420: ConvergenceWarning: The optimal value found for dimension 0 of parameter length_scale is close to the specified lower bound 1e-05. Decreasing the bound and calling fit again may find a better value.\n",
      "  warnings.warn(\n"
     ]
    },
    {
     "name": "stdout",
     "output_type": "stream",
     "text": [
      "Best validation loss: 85.92835998535156\n"
     ]
    },
    {
     "name": "stderr",
     "output_type": "stream",
     "text": [
      "C:\\Users\\VANKK\\anaconda3\\Lib\\site-packages\\sklearn\\gaussian_process\\kernels.py:420: ConvergenceWarning: The optimal value found for dimension 0 of parameter length_scale is close to the specified lower bound 1e-05. Decreasing the bound and calling fit again may find a better value.\n",
      "  warnings.warn(\n"
     ]
    },
    {
     "name": "stdout",
     "output_type": "stream",
     "text": [
      "Best validation loss: 89.59349822998047\n"
     ]
    },
    {
     "name": "stderr",
     "output_type": "stream",
     "text": [
      "C:\\Users\\VANKK\\anaconda3\\Lib\\site-packages\\sklearn\\gaussian_process\\kernels.py:420: ConvergenceWarning: The optimal value found for dimension 0 of parameter length_scale is close to the specified lower bound 1e-05. Decreasing the bound and calling fit again may find a better value.\n",
      "  warnings.warn(\n"
     ]
    },
    {
     "name": "stdout",
     "output_type": "stream",
     "text": [
      "Best validation loss: 95.99266052246094\n"
     ]
    },
    {
     "name": "stderr",
     "output_type": "stream",
     "text": [
      "C:\\Users\\VANKK\\anaconda3\\Lib\\site-packages\\sklearn\\gaussian_process\\kernels.py:420: ConvergenceWarning: The optimal value found for dimension 0 of parameter length_scale is close to the specified lower bound 1e-05. Decreasing the bound and calling fit again may find a better value.\n",
      "  warnings.warn(\n"
     ]
    },
    {
     "name": "stdout",
     "output_type": "stream",
     "text": [
      "Best validation loss: 6.750199317932129\n"
     ]
    },
    {
     "name": "stderr",
     "output_type": "stream",
     "text": [
      "C:\\Users\\VANKK\\anaconda3\\Lib\\site-packages\\sklearn\\gaussian_process\\kernels.py:420: ConvergenceWarning: The optimal value found for dimension 0 of parameter length_scale is close to the specified lower bound 1e-05. Decreasing the bound and calling fit again may find a better value.\n",
      "  warnings.warn(\n"
     ]
    },
    {
     "name": "stdout",
     "output_type": "stream",
     "text": [
      "Best validation loss: 18.698516845703125\n"
     ]
    },
    {
     "name": "stderr",
     "output_type": "stream",
     "text": [
      "C:\\Users\\VANKK\\anaconda3\\Lib\\site-packages\\sklearn\\gaussian_process\\kernels.py:420: ConvergenceWarning: The optimal value found for dimension 0 of parameter length_scale is close to the specified lower bound 1e-05. Decreasing the bound and calling fit again may find a better value.\n",
      "  warnings.warn(\n"
     ]
    },
    {
     "name": "stdout",
     "output_type": "stream",
     "text": [
      "Best validation loss: 8.338593482971191\n"
     ]
    },
    {
     "name": "stderr",
     "output_type": "stream",
     "text": [
      "C:\\Users\\VANKK\\anaconda3\\Lib\\site-packages\\sklearn\\gaussian_process\\kernels.py:420: ConvergenceWarning: The optimal value found for dimension 0 of parameter length_scale is close to the specified lower bound 1e-05. Decreasing the bound and calling fit again may find a better value.\n",
      "  warnings.warn(\n"
     ]
    },
    {
     "name": "stdout",
     "output_type": "stream",
     "text": [
      "Best validation loss: 44.969886779785156\n"
     ]
    },
    {
     "name": "stderr",
     "output_type": "stream",
     "text": [
      "C:\\Users\\VANKK\\anaconda3\\Lib\\site-packages\\sklearn\\gaussian_process\\kernels.py:420: ConvergenceWarning: The optimal value found for dimension 0 of parameter length_scale is close to the specified lower bound 1e-05. Decreasing the bound and calling fit again may find a better value.\n",
      "  warnings.warn(\n"
     ]
    },
    {
     "name": "stdout",
     "output_type": "stream",
     "text": [
      "Best validation loss: 11.330597877502441\n"
     ]
    },
    {
     "name": "stderr",
     "output_type": "stream",
     "text": [
      "C:\\Users\\VANKK\\anaconda3\\Lib\\site-packages\\sklearn\\gaussian_process\\kernels.py:420: ConvergenceWarning: The optimal value found for dimension 0 of parameter length_scale is close to the specified lower bound 1e-05. Decreasing the bound and calling fit again may find a better value.\n",
      "  warnings.warn(\n"
     ]
    },
    {
     "name": "stdout",
     "output_type": "stream",
     "text": [
      "Best validation loss: 62.41743087768555\n"
     ]
    },
    {
     "name": "stderr",
     "output_type": "stream",
     "text": [
      "C:\\Users\\VANKK\\anaconda3\\Lib\\site-packages\\sklearn\\gaussian_process\\kernels.py:420: ConvergenceWarning: The optimal value found for dimension 0 of parameter length_scale is close to the specified lower bound 1e-05. Decreasing the bound and calling fit again may find a better value.\n",
      "  warnings.warn(\n"
     ]
    },
    {
     "name": "stdout",
     "output_type": "stream",
     "text": [
      "Best validation loss: 7.168688774108887\n"
     ]
    },
    {
     "name": "stderr",
     "output_type": "stream",
     "text": [
      "C:\\Users\\VANKK\\anaconda3\\Lib\\site-packages\\sklearn\\gaussian_process\\kernels.py:420: ConvergenceWarning: The optimal value found for dimension 0 of parameter length_scale is close to the specified lower bound 1e-05. Decreasing the bound and calling fit again may find a better value.\n",
      "  warnings.warn(\n"
     ]
    },
    {
     "name": "stdout",
     "output_type": "stream",
     "text": [
      "Best validation loss: 31.41956901550293\n"
     ]
    },
    {
     "name": "stderr",
     "output_type": "stream",
     "text": [
      "C:\\Users\\VANKK\\anaconda3\\Lib\\site-packages\\sklearn\\gaussian_process\\kernels.py:420: ConvergenceWarning: The optimal value found for dimension 0 of parameter length_scale is close to the specified lower bound 1e-05. Decreasing the bound and calling fit again may find a better value.\n",
      "  warnings.warn(\n"
     ]
    },
    {
     "name": "stdout",
     "output_type": "stream",
     "text": [
      "WARNING:tensorflow:Callback method `on_train_batch_end` is slow compared to the batch time (batch time: 0.0002s vs `on_train_batch_end` time: 0.0003s). Check your callbacks.\n",
      "Best validation loss: 61.278289794921875\n"
     ]
    },
    {
     "name": "stderr",
     "output_type": "stream",
     "text": [
      "C:\\Users\\VANKK\\anaconda3\\Lib\\site-packages\\sklearn\\gaussian_process\\kernels.py:420: ConvergenceWarning: The optimal value found for dimension 0 of parameter length_scale is close to the specified lower bound 1e-05. Decreasing the bound and calling fit again may find a better value.\n",
      "  warnings.warn(\n"
     ]
    },
    {
     "name": "stdout",
     "output_type": "stream",
     "text": [
      "Best validation loss: 11.081448554992676\n"
     ]
    },
    {
     "name": "stderr",
     "output_type": "stream",
     "text": [
      "C:\\Users\\VANKK\\anaconda3\\Lib\\site-packages\\sklearn\\gaussian_process\\kernels.py:420: ConvergenceWarning: The optimal value found for dimension 0 of parameter length_scale is close to the specified lower bound 1e-05. Decreasing the bound and calling fit again may find a better value.\n",
      "  warnings.warn(\n"
     ]
    },
    {
     "name": "stdout",
     "output_type": "stream",
     "text": [
      "Best validation loss: 12.30716323852539\n"
     ]
    },
    {
     "name": "stderr",
     "output_type": "stream",
     "text": [
      "C:\\Users\\VANKK\\anaconda3\\Lib\\site-packages\\sklearn\\gaussian_process\\kernels.py:420: ConvergenceWarning: The optimal value found for dimension 0 of parameter length_scale is close to the specified lower bound 1e-05. Decreasing the bound and calling fit again may find a better value.\n",
      "  warnings.warn(\n"
     ]
    },
    {
     "name": "stdout",
     "output_type": "stream",
     "text": [
      "Best validation loss: 6.752259254455566\n"
     ]
    },
    {
     "name": "stderr",
     "output_type": "stream",
     "text": [
      "C:\\Users\\VANKK\\anaconda3\\Lib\\site-packages\\sklearn\\gaussian_process\\kernels.py:420: ConvergenceWarning: The optimal value found for dimension 0 of parameter length_scale is close to the specified lower bound 1e-05. Decreasing the bound and calling fit again may find a better value.\n",
      "  warnings.warn(\n"
     ]
    },
    {
     "name": "stdout",
     "output_type": "stream",
     "text": [
      "Best validation loss: 11.28524112701416\n"
     ]
    },
    {
     "name": "stderr",
     "output_type": "stream",
     "text": [
      "C:\\Users\\VANKK\\anaconda3\\Lib\\site-packages\\sklearn\\gaussian_process\\kernels.py:420: ConvergenceWarning: The optimal value found for dimension 0 of parameter length_scale is close to the specified lower bound 1e-05. Decreasing the bound and calling fit again may find a better value.\n",
      "  warnings.warn(\n"
     ]
    },
    {
     "name": "stdout",
     "output_type": "stream",
     "text": [
      "Best validation loss: 17.801015853881836\n"
     ]
    },
    {
     "name": "stderr",
     "output_type": "stream",
     "text": [
      "C:\\Users\\VANKK\\anaconda3\\Lib\\site-packages\\sklearn\\gaussian_process\\kernels.py:420: ConvergenceWarning: The optimal value found for dimension 0 of parameter length_scale is close to the specified lower bound 1e-05. Decreasing the bound and calling fit again may find a better value.\n",
      "  warnings.warn(\n"
     ]
    },
    {
     "name": "stdout",
     "output_type": "stream",
     "text": [
      "Best validation loss: 67.28961181640625\n"
     ]
    },
    {
     "name": "stderr",
     "output_type": "stream",
     "text": [
      "C:\\Users\\VANKK\\anaconda3\\Lib\\site-packages\\sklearn\\gaussian_process\\kernels.py:420: ConvergenceWarning: The optimal value found for dimension 0 of parameter length_scale is close to the specified lower bound 1e-05. Decreasing the bound and calling fit again may find a better value.\n",
      "  warnings.warn(\n"
     ]
    },
    {
     "name": "stdout",
     "output_type": "stream",
     "text": [
      "Best validation loss: 19.399328231811523\n"
     ]
    },
    {
     "name": "stderr",
     "output_type": "stream",
     "text": [
      "C:\\Users\\VANKK\\anaconda3\\Lib\\site-packages\\sklearn\\gaussian_process\\kernels.py:420: ConvergenceWarning: The optimal value found for dimension 0 of parameter length_scale is close to the specified lower bound 1e-05. Decreasing the bound and calling fit again may find a better value.\n",
      "  warnings.warn(\n"
     ]
    },
    {
     "name": "stdout",
     "output_type": "stream",
     "text": [
      "Best validation loss: 9.97364616394043\n",
      "INFO:tensorflow:Oracle triggered exit\n",
      "WARNING:tensorflow:Detecting that an object or model or tf.train.Checkpoint is being deleted with unrestored values. See the following logs for the specific values in question. To silence these warnings, use `status.expect_partial()`. See https://www.tensorflow.org/api_docs/python/tf/train/Checkpoint#restorefor details about the status object returned by the restore function.\n",
      "WARNING:tensorflow:Value in checkpoint could not be found in the restored object: (root).optimizer._variables.1\n",
      "WARNING:tensorflow:Value in checkpoint could not be found in the restored object: (root).optimizer._variables.2\n",
      "WARNING:tensorflow:Value in checkpoint could not be found in the restored object: (root).optimizer._variables.3\n",
      "WARNING:tensorflow:Value in checkpoint could not be found in the restored object: (root).optimizer._variables.4\n",
      "WARNING:tensorflow:Value in checkpoint could not be found in the restored object: (root).optimizer._variables.5\n",
      "WARNING:tensorflow:Value in checkpoint could not be found in the restored object: (root).optimizer._variables.6\n",
      "WARNING:tensorflow:Value in checkpoint could not be found in the restored object: (root).optimizer._variables.7\n",
      "WARNING:tensorflow:Value in checkpoint could not be found in the restored object: (root).optimizer._variables.8\n",
      "WARNING:tensorflow:Value in checkpoint could not be found in the restored object: (root).optimizer._variables.9\n",
      "WARNING:tensorflow:Value in checkpoint could not be found in the restored object: (root).optimizer._variables.10\n",
      "WARNING:tensorflow:Value in checkpoint could not be found in the restored object: (root).optimizer._variables.11\n",
      "WARNING:tensorflow:Value in checkpoint could not be found in the restored object: (root).optimizer._variables.12\n",
      "WARNING:tensorflow:Value in checkpoint could not be found in the restored object: (root).optimizer._variables.13\n",
      "WARNING:tensorflow:Value in checkpoint could not be found in the restored object: (root).optimizer._variables.14\n",
      "WARNING:tensorflow:Value in checkpoint could not be found in the restored object: (root).optimizer._variables.15\n",
      "WARNING:tensorflow:Value in checkpoint could not be found in the restored object: (root).optimizer._variables.16\n",
      "WARNING:tensorflow:Value in checkpoint could not be found in the restored object: (root).optimizer._variables.17\n",
      "WARNING:tensorflow:Value in checkpoint could not be found in the restored object: (root).optimizer._variables.18\n",
      "WARNING:tensorflow:Value in checkpoint could not be found in the restored object: (root).optimizer._variables.19\n",
      "WARNING:tensorflow:Value in checkpoint could not be found in the restored object: (root).optimizer._variables.20\n"
     ]
    },
    {
     "name": "stderr",
     "output_type": "stream",
     "text": [
      "C:\\Users\\VANKK\\AppData\\Local\\Temp\\ipykernel_4960\\1998982945.py:20: UserWarning: You are saving your model as an HDF5 file via `model.save()`. This file format is considered legacy. We recommend using instead the native Keras format, e.g. `model.save('my_model.keras')`.\n",
      "  save_model(best_model, f'{save_directory}/model_{iteration}.h5')\n"
     ]
    }
   ],
   "source": [
    "val_ratio = 0.3\n",
    "update_size = np.copy(test_size)\n",
    "iteration = 1\n",
    "\n",
    "while update_size > 0:\n",
    "    \n",
    "    print(\"Current update_size is \", update_size)\n",
    "\n",
    "    test_y, test_X = y_dir[-update_size:], X_dir[-update_size:,:]\n",
    "    full_train_y, full_train_X = y_dir[:-update_size], X_dir[:-update_size,:]\n",
    "    \n",
    "    val_size = int(len(full_train_y) * val_ratio)\n",
    "    \n",
    "    val_y, val_X = full_train_y[-val_size:], full_train_X[-val_size:,:]\n",
    "    trainy, trainX = full_train_y[:-val_size], full_train_X[:-val_size,:]\n",
    "\n",
    "    #Commented out just in case accidently ran it doesnt overwrite anything\n",
    "    # model, hp = direct_tune_nn(trainX, trainy, val_X, val_y, iteration, trial)\n",
    "\n",
    "    update_size = update_size - batch_size\n",
    "\n",
    "    iteration = iteration + 1"
   ]
  },
  {
   "cell_type": "code",
   "execution_count": 10,
   "id": "dcca162f",
   "metadata": {},
   "outputs": [
    {
     "ename": "NameError",
     "evalue": "name 'batch_size' is not defined",
     "output_type": "error",
     "traceback": [
      "\u001b[1;31m---------------------------------------------------------------------------\u001b[0m",
      "\u001b[1;31mNameError\u001b[0m                                 Traceback (most recent call last)",
      "Cell \u001b[1;32mIn[10], line 1\u001b[0m\n\u001b[1;32m----> 1\u001b[0m update_amount \u001b[39m=\u001b[39m \u001b[39mint\u001b[39m(np\u001b[39m.\u001b[39mfloor(test_size\u001b[39m/\u001b[39mbatch_size))\n\u001b[0;32m      3\u001b[0m models \u001b[39m=\u001b[39m {}\n\u001b[0;32m      5\u001b[0m trial \u001b[39m=\u001b[39m \u001b[39m1\u001b[39m\n",
      "\u001b[1;31mNameError\u001b[0m: name 'batch_size' is not defined"
     ]
    }
   ],
   "source": [
    "update_amount = int(np.floor(test_size/batch_size))\n",
    "\n",
    "models = {}\n",
    "\n",
    "trial = 1\n",
    "\n",
    "for iteration in range(1,13):\n",
    "\n",
    "    models[iteration] = load_model(f'Adaptive_tuning_with_true_rv/trial_{trial}/iter_{iteration}/model_{iteration}.h5')"
   ]
  },
  {
   "cell_type": "code",
   "execution_count": 15,
   "id": "8a1b3ec5",
   "metadata": {},
   "outputs": [
    {
     "name": "stdout",
     "output_type": "stream",
     "text": [
      "WARNING:tensorflow:5 out of the last 9 calls to <function Model.make_predict_function.<locals>.predict_function at 0x000001BD3FB47240> triggered tf.function retracing. Tracing is expensive and the excessive number of tracings could be due to (1) creating @tf.function repeatedly in a loop, (2) passing tensors with different shapes, (3) passing Python objects instead of tensors. For (1), please define your @tf.function outside of the loop. For (2), @tf.function has reduce_retracing=True option that can avoid unnecessary retracing. For (3), please refer to https://www.tensorflow.org/guide/function#controlling_retracing and https://www.tensorflow.org/api_docs/python/tf/function for  more details.\n",
      "WARNING:tensorflow:6 out of the last 11 calls to <function Model.make_predict_function.<locals>.predict_function at 0x000001BD3FB47CE0> triggered tf.function retracing. Tracing is expensive and the excessive number of tracings could be due to (1) creating @tf.function repeatedly in a loop, (2) passing tensors with different shapes, (3) passing Python objects instead of tensors. For (1), please define your @tf.function outside of the loop. For (2), @tf.function has reduce_retracing=True option that can avoid unnecessary retracing. For (3), please refer to https://www.tensorflow.org/guide/function#controlling_retracing and https://www.tensorflow.org/api_docs/python/tf/function for  more details.\n",
      "MSE =  3.430689156043259\n",
      "MAE =  1.4235079755936713\n",
      "R2 =  0.7329663997736553\n"
     ]
    }
   ],
   "source": [
    "test_y, test_X = y_dir[-test_size:], X_dir[-test_size:,:]\n",
    "\n",
    "batches = int(np.floor(test_size/batch_size))\n",
    "\n",
    "predictions = np.array([])\n",
    "\n",
    "for i in range(batches):\n",
    "    \n",
    "    if i < batches-1:\n",
    "        inds = np.arange(0+batch_size*(i),batch_size + batch_size*(i))\n",
    "    else: \n",
    "        inds = np.arange(0+batch_size*(i),test_size)\n",
    "        \n",
    "    batch_y = test_y[inds]\n",
    "    batch_X = test_X[inds,:]\n",
    "    \n",
    "    preds = models[i+1].predict(batch_X, verbose = 0)\n",
    "    \n",
    "    predictions = np.append(predictions, preds)\n",
    "        \n",
    "print(\"MSE = \", mean_squared_error(r_test, predictions))\n",
    "print(\"MAE = \", mean_absolute_error(r_test, predictions))\n",
    "print(\"R2 = \", r2_score(r_test, predictions))"
   ]
  },
  {
   "cell_type": "code",
   "execution_count": 16,
   "id": "8b19964d",
   "metadata": {},
   "outputs": [
    {
     "name": "stdout",
     "output_type": "stream",
     "text": [
      "MSE =  3.430689156043259\n",
      "MAE =  1.4235079755936713\n",
      "R2 =  0.7329663997736553\n"
     ]
    }
   ],
   "source": [
    "print(\"MSE = \", mean_squared_error(r_test, predictions))\n",
    "print(\"MAE = \", mean_absolute_error(r_test, predictions))\n",
    "print(\"R2 = \", r2_score(r_test, predictions))"
   ]
  },
  {
   "cell_type": "code",
   "execution_count": 18,
   "id": "f8506adf",
   "metadata": {},
   "outputs": [
    {
     "name": "stdout",
     "output_type": "stream",
     "text": [
      "Current update_size is  520\n",
      "Current update_size is  476\n",
      "Current update_size is  432\n",
      "Current update_size is  388\n",
      "Current update_size is  344\n",
      "Current update_size is  300\n",
      "Current update_size is  256\n",
      "Current update_size is  212\n",
      "Current update_size is  168\n",
      "Current update_size is  124\n",
      "Current update_size is  80\n",
      "Current update_size is  36\n"
     ]
    }
   ],
   "source": [
    "val_ratio = 0.3\n",
    "update_size = np.copy(test_size)\n",
    "iteration = 1 \n",
    "\n",
    "old_model = models[iteration]\n",
    "old_model_ind = 1\n",
    "\n",
    "model_iter_counter = []\n",
    "\n",
    "while update_size > 0:\n",
    "    \n",
    "    print(\"Current update_size is \", update_size)\n",
    "\n",
    "    test_y, test_X = y_dir[-update_size:], X_dir[-update_size:,:]\n",
    "    full_train_y, full_train_X = y_dir[:-update_size], X_dir[:-update_size,:]\n",
    "    \n",
    "    val_size = int(len(full_train_y) * val_ratio)\n",
    "    \n",
    "    val_y, val_X = full_train_y[-val_size:], full_train_X[-val_size:,:]\n",
    "    trainy, trainX = full_train_y[:-val_size], full_train_X[:-val_size,:]\n",
    "    \n",
    "    new_model = models[iteration]\n",
    "    new_preds = new_model.predict(val_X, verbose = 0)\n",
    "    new_mse = mean_squared_error(val_y, new_preds)\n",
    "    \n",
    "    if iteration == 1:\n",
    "        \n",
    "        model_iter_counter.append([iteration, iteration])\n",
    "\n",
    "    else: \n",
    "        \n",
    "        old_preds = old_model.predict(val_X, verbose = 0)\n",
    "        old_mse = mean_squared_error(val_y, old_preds)\n",
    "        \n",
    "        if old_mse < new_mse:\n",
    "            \n",
    "            model_iter_counter.append([iteration, old_model_ind])\n",
    "        \n",
    "        else: \n",
    "            \n",
    "            old_model_ind = iteration \n",
    "            model_iter_counter.append([iteration, iteration])\n",
    "\n",
    "    update_size = update_size - batch_size\n",
    "\n",
    "    iteration = iteration + 1"
   ]
  },
  {
   "cell_type": "code",
   "execution_count": 19,
   "id": "f3999b59",
   "metadata": {
    "scrolled": true
   },
   "outputs": [],
   "source": [
    "test_y, test_X = y_dir[-test_size:], X_dir[-test_size:,:]\n",
    "\n",
    "batches = int(np.floor(test_size/batch_size))\n",
    "\n",
    "predictions = np.array([])\n",
    "\n",
    "iteration = 1\n",
    "\n",
    "obs_counter = 0\n",
    "\n",
    "for i in range(0, test_size):\n",
    "    \n",
    "    X_row = test_X[-test_size + i,:].reshape((1,-1))\n",
    "    \n",
    "    model_ind = model_iter_counter[iteration - 1][1]\n",
    "    model = models[model_ind]\n",
    "    \n",
    "    prediction = model.predict(X_row,verbose = 0)\n",
    "    \n",
    "    predictions = np.append(predictions, prediction)\n",
    "    \n",
    "    obs_counter += 1\n",
    "    \n",
    "    if obs_counter % batch_size == 0: \n",
    "        \n",
    "        iteration += 1"
   ]
  },
  {
   "cell_type": "code",
   "execution_count": 20,
   "id": "70e45c25",
   "metadata": {},
   "outputs": [
    {
     "name": "stdout",
     "output_type": "stream",
     "text": [
      "3.4440814814131686\n"
     ]
    },
    {
     "data": {
      "image/png": "[encoded data removed]",
      "text/plain": [
       "<Figure size 640x480 with 1 Axes>"
      ]
     },
     "metadata": {},
     "output_type": "display_data"
    }
   ],
   "source": [
    "plt.plot(r_test)\n",
    "plt.plot(predictions)\n",
    "print(mean_squared_error(r_test, predictions))"
   ]
  },
  {
   "cell_type": "code",
   "execution_count": 14,
   "id": "877cf9c1",
   "metadata": {},
   "outputs": [],
   "source": [
    "def direct_horizon_prediction(horizon, lags, models, batch_size, rv = r, test_size = test_size):\n",
    "\n",
    "    forecasts_size = test_size - horizon + 1\n",
    "\n",
    "    horizon_forecasts_direct = np.array([])\n",
    "\n",
    "    iteration = 1\n",
    "\n",
    "    obs_counter = 0\n",
    "\n",
    "    model = models[iteration]\n",
    "\n",
    "    for j in range(51, -1, -1):\n",
    "        \n",
    "        print(f'Predicting {j}')\n",
    "\n",
    "        t = j\n",
    "        T = t + horizon\n",
    "\n",
    "        find_values = np.flip(np.arange(t,T))\n",
    "\n",
    "        pred_and_trues = np.copy(r)\n",
    "        pred_and_trues[:T] = 0\n",
    "\n",
    "        new_fA = np.copy(fA)\n",
    "        new_fA[ts1[ts1 < T],0] = 0\n",
    "        new_fA[ts2[ts2 < T],1] = 0\n",
    "\n",
    "        new_fD = np.copy(fD)\n",
    "        new_fD[ts1[ts1 < T],0] = 0\n",
    "        new_fD[ts2[ts2 < T],1] = 0\n",
    "\n",
    "        counter = T\n",
    "        temp_predictions = np.array([])\n",
    "\n",
    "        for i in range(len(find_values)):\n",
    "\n",
    "            y_ind = find_values[i]\n",
    "            X_ind_1 = ts1[(ts1 > y_ind)*(ts1 >= counter)]\n",
    "            X_ind_2 = ts2[(ts2 > y_ind)*(ts2 >= counter)]\n",
    "            X = np.concatenate((new_fA[X_ind_1[:lags[0]],0],new_fA[X_ind_2[:lags[1]],1],new_fD[X_ind_1[:lags[2]],0],new_fD[X_ind_2[:lags[3]],1], pred_and_trues[counter:counter+lags[-1]])).reshape(1, -1)\n",
    "            y_hat = model.predict(X, verbose = 0)\n",
    "            temp_predictions = np.append(temp_predictions, y_hat)\n",
    "\n",
    "            pred_and_trues[y_ind] = y_hat\n",
    "\n",
    "            if y_ind in ts1:\n",
    "                new_fA[int(y_ind/2),0], new_fD[int(y_ind/2),0] =  pywt.dwt(pred_and_trues[y_ind:y_ind+2], BandiWavelet)\n",
    "            if y_ind in ts2:\n",
    "                new_fA[int(y_ind/4),1], new_fD[int(y_ind/4),1] =  pywt.dwt(pywt.dwt(pred_and_trues[y_ind:y_ind+4], BandiWavelet)[0], BandiWavelet)\n",
    "\n",
    "            counter = counter - 1\n",
    "\n",
    "        horizon_forecasts_direct = np.append(horizon_forecasts_direct, temp_predictions[-1])\n",
    "\n",
    "        obs_counter += 1\n",
    "\n",
    "        if obs_counter % batch_size == 0:\n",
    "\n",
    "            iteration += 1\n",
    "\n",
    "            model = models[iteration]\n",
    "            \n",
    "        lm_save_path = f'prediction/direct_nn_{horizon}_last_51.pkl'\n",
    "\n",
    "        os.makedirs(os.path.dirname(lm_save_path), exist_ok=True)\n",
    "\n",
    "        with open(lm_save_path, 'wb') as file:\n",
    "            pickle.dump(horizon_forecasts_direct, file)\n",
    "\n",
    "    return horizon_forecasts_direct"
   ]
  },
  {
   "cell_type": "code",
   "execution_count": 16,
   "id": "b8b51f23",
   "metadata": {},
   "outputs": [
    {
     "name": "stdout",
     "output_type": "stream",
     "text": [
      "Predicting 51\n",
      "Predicting 50\n",
      "Predicting 49\n",
      "Predicting 48\n",
      "Predicting 47\n",
      "Predicting 46\n",
      "Predicting 45\n",
      "Predicting 44\n",
      "Predicting 43\n",
      "Predicting 42\n",
      "Predicting 41\n",
      "Predicting 40\n",
      "Predicting 39\n",
      "Predicting 38\n",
      "Predicting 37\n",
      "Predicting 36\n",
      "Predicting 35\n",
      "Predicting 34\n",
      "Predicting 33\n",
      "Predicting 32\n",
      "Predicting 31\n",
      "Predicting 30\n",
      "Predicting 29\n",
      "Predicting 28\n",
      "Predicting 27\n",
      "Predicting 26\n",
      "Predicting 25\n",
      "Predicting 24\n",
      "Predicting 23\n",
      "Predicting 22\n",
      "Predicting 21\n",
      "Predicting 20\n",
      "Predicting 19\n",
      "Predicting 18\n",
      "Predicting 17\n",
      "Predicting 16\n",
      "Predicting 15\n",
      "Predicting 14\n",
      "Predicting 13\n",
      "Predicting 12\n",
      "Predicting 11\n",
      "Predicting 10\n",
      "Predicting 9\n",
      "Predicting 8\n",
      "Predicting 7\n",
      "Predicting 6\n",
      "Predicting 5\n",
      "Predicting 4\n",
      "Predicting 3\n",
      "Predicting 2\n",
      "Predicting 1\n",
      "Predicting 0\n"
     ]
    }
   ],
   "source": [
    "horizons = [1,5,20,60]\n",
    "\n",
    "for hor in horizons:\n",
    "\n",
    "    preds = direct_horizon_prediction(hor, lags, models, batch_size)\n",
    "\n",
    "    lm_save_path = f'prediction/direct_nn_{hor}.pkl'\n",
    "\n",
    "    os.makedirs(os.path.dirname(lm_save_path), exist_ok=True)\n",
    "\n",
    "    print(f'Done with horizon {hor}')\n",
    "    print(f'{mean_squared_error(r_test[hor-1:],preds)}')\n",
    "\n",
    "    with open(lm_save_path, 'wb') as file:\n",
    "        pickle.dump(preds, file)"
   ]
  }
 ],
 "metadata": {
  "kernelspec": {
   "display_name": "Python 3 (ipykernel)",
   "language": "python",
   "name": "python3"
  },
  "language_info": {
   "codemirror_mode": {
    "name": "ipython",
    "version": 3
   },
   "file_extension": ".py",
   "mimetype": "text/x-python",
   "name": "python",
   "nbconvert_exporter": "python",
   "pygments_lexer": "ipython3",
   "version": "3.11.3"
  }
 },
 "nbformat": 4,
 "nbformat_minor": 5
}
